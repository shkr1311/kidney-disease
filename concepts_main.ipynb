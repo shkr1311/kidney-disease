{
 "cells": [
  {
   "cell_type": "code",
   "execution_count": 71,
   "metadata": {},
   "outputs": [
    {
     "name": "stdout",
     "output_type": "stream",
     "text": [
      " hello world\n",
      "this is a multiline string\n",
      "and it is a comment\n"
     ]
    }
   ],
   "source": [
    "print(\"\"\" hello world\n",
    "this is a multiline string\n",
    "and it is a comment\"\"\")"
   ]
  },
  {
   "cell_type": "code",
   "execution_count": 72,
   "metadata": {},
   "outputs": [
    {
     "name": "stdout",
     "output_type": "stream",
     "text": [
      "hello\n"
     ]
    }
   ],
   "source": [
    "a = \"hello\"\n",
    "print(a)"
   ]
  },
  {
   "cell_type": "code",
   "execution_count": 73,
   "metadata": {},
   "outputs": [
    {
     "name": "stdout",
     "output_type": "stream",
     "text": [
      "hello \n"
     ]
    }
   ],
   "source": [
    "name =input(\"what is your name?\")\n",
    "print(\"hello\", name)"
   ]
  },
  {
   "cell_type": "code",
   "execution_count": 74,
   "metadata": {},
   "outputs": [
    {
     "ename": "ValueError",
     "evalue": "invalid literal for int() with base 10: ''",
     "output_type": "error",
     "traceback": [
      "\u001b[1;31m---------------------------------------------------------------------------\u001b[0m",
      "\u001b[1;31mValueError\u001b[0m                                Traceback (most recent call last)",
      "Cell \u001b[1;32mIn[74], line 1\u001b[0m\n\u001b[1;32m----> 1\u001b[0m age\u001b[38;5;241m=\u001b[39m \u001b[38;5;28;43mint\u001b[39;49m\u001b[43m(\u001b[49m\u001b[38;5;28;43minput\u001b[39;49m\u001b[43m(\u001b[49m\u001b[38;5;124;43m\"\u001b[39;49m\u001b[38;5;124;43mhow old are you?\u001b[39;49m\u001b[38;5;124;43m\"\u001b[39;49m\u001b[43m)\u001b[49m\u001b[43m)\u001b[49m\n\u001b[0;32m      2\u001b[0m \u001b[38;5;28mprint\u001b[39m(\u001b[38;5;124m\"\u001b[39m\u001b[38;5;124myou are\u001b[39m\u001b[38;5;124m\"\u001b[39m, age, \u001b[38;5;124m\"\u001b[39m\u001b[38;5;124myears old\u001b[39m\u001b[38;5;124m\"\u001b[39m)\n",
      "\u001b[1;31mValueError\u001b[0m: invalid literal for int() with base 10: ''"
     ]
    }
   ],
   "source": [
    "age= int(input(\"how old are you?\"))\n",
    "print(\"you are\", age, \"years old\")"
   ]
  },
  {
   "cell_type": "code",
   "execution_count": null,
   "metadata": {},
   "outputs": [],
   "source": [
    "exp1= eval(input(\"enter any xpression\"))\n",
    "print(exp1)"
   ]
  },
  {
   "cell_type": "code",
   "execution_count": null,
   "metadata": {},
   "outputs": [],
   "source": [
    "name= input(\"what is your name?\\n\")\n",
    "age= int(input(\"how old are you?\\n\"))\n",
    "address= input(\"what is your address?\\n\")\n",
    "print(\"\"\" name: {} , age: {} , address: {}\"\"\".format(name, age, address))"
   ]
  },
  {
   "cell_type": "code",
   "execution_count": null,
   "metadata": {},
   "outputs": [],
   "source": [
    "x= 12 \n",
    "y = 13\n",
    "temp = x\n",
    "x = y\n",
    "y = temp\n",
    "print(\"x=\", x, \"y=\", y)"
   ]
  },
  {
   "cell_type": "code",
   "execution_count": null,
   "metadata": {},
   "outputs": [],
   "source": [
    "x= 20\n",
    "y= 30\n",
    "print(\"x=\", x, \"y=\", y)\n",
    "x,y=y,x\n",
    "print(\"x=\", x, \"y=\", y)"
   ]
  },
  {
   "cell_type": "code",
   "execution_count": null,
   "metadata": {},
   "outputs": [],
   "source": [
    "y = 3.24\n",
    "print(type(y))\n",
    "y = int(y)\n",
    "print(type(y))\n",
    "print(y)"
   ]
  },
  {
   "cell_type": "code",
   "execution_count": null,
   "metadata": {},
   "outputs": [],
   "source": [
    "nam = input(\"what is your name?\\n\")\n",
    "mobile_number = int(input(\"what is your mobile number?\\n\"))\n",
    "address = input(\"what is your address?\\n\")\n",
    "grade = input(\"what is your grade?\\n\")\n",
    "email = input(\"what is your email\\n\")\n",
    "print(\"name: \", nam, \"mobile number: \", mobile_number, \"address: \", address, \"grade: \", grade, \"email: \", email)"
   ]
  },
  {
   "cell_type": "code",
   "execution_count": null,
   "metadata": {},
   "outputs": [],
   "source": [
    "a = 12\n",
    "print(type(a))\n",
    "print(a)\n",
    "a = float(a)\n",
    "print(type(a))  \n",
    "print(a)    "
   ]
  },
  {
   "cell_type": "code",
   "execution_count": null,
   "metadata": {},
   "outputs": [],
   "source": [
    "a= 7\n",
    "b= 2\n",
    "c=a//b\n",
    "d=a%b\n",
    "b = 2**123\n",
    "print(c)\n",
    "print(d)  \n",
    "print(b)  "
   ]
  },
  {
   "cell_type": "code",
   "execution_count": null,
   "metadata": {},
   "outputs": [],
   "source": [
    "print(3>2)\n",
    "print(3<2)"
   ]
  },
  {
   "cell_type": "code",
   "execution_count": null,
   "metadata": {},
   "outputs": [],
   "source": [
    "marks = 50\n",
    "print(\"you can go on trip\") if marks<=50 else print(\"you cannot go on trip\")"
   ]
  },
  {
   "cell_type": "code",
   "execution_count": null,
   "metadata": {},
   "outputs": [],
   "source": [
    "a= int(input(\"enter a number\"))\n",
    "if a % 2 == 0:\n",
    "    print(\"even\")\n",
    "else:\n",
    "    print(\"odd\")\n"
   ]
  },
  {
   "cell_type": "code",
   "execution_count": null,
   "metadata": {},
   "outputs": [],
   "source": [
    "num = int(input(\"enter a number\"))\n",
    "if num >= 0:\n",
    "    print(\"positive\")\n",
    "else:\n",
    "    print(\"negative\")   "
   ]
  },
  {
   "cell_type": "code",
   "execution_count": null,
   "metadata": {},
   "outputs": [],
   "source": [
    "print(\"******AREA CALCULATOR******\")\n",
    "print(\"\"\"1. area of circle\n",
    "2. area of rectangle\n",
    "3. area of square\n",
    "4. area of triangle\"\"\")\n",
    "choice = int(input(\"enter your choice: \"))\n",
    "\n",
    "if choice == 1:\n",
    "    radius = float(input(\"enter the radius of circle: \"))\n",
    "    area = 3.14 * radius * radius\n",
    "    print(\"area of circle is\", area)\n",
    "elif choice == 2:\n",
    "    length = float(input(\"enter the length of rectangle: \"))\n",
    "    breadth = float(input(\"enter the breadth of rectangle: \"))\n",
    "    area = length * breadth\n",
    "    print(\"area of rectangle is\", area)\n",
    "elif choice == 3:\n",
    "    side = float(input(\"enter the side of square: \"))\n",
    "    area = side * side\n",
    "    print(\"area of square is\", area)\n",
    "elif choice == 4:\n",
    "    base = float(input(\"enter the base of triangle: \"))\n",
    "    height = float(input(\"enter the height of triangle: \"))\n",
    "    area = 0.5 * base * height\n",
    "    print(\"area of triangle is\", area)\n",
    "else:\n",
    "    print(\"invalid choice\")\n"
   ]
  },
  {
   "cell_type": "code",
   "execution_count": null,
   "metadata": {},
   "outputs": [],
   "source": [
    "letter = input(\"enter a letter: \")\n",
    "if letter in \"aeiou\":\n",
    "    print(\"vowel\")\n",
    "else:\n",
    "\n",
    "    print(\"consonant\")\n",
    "    "
   ]
  },
  {
   "cell_type": "code",
   "execution_count": null,
   "metadata": {},
   "outputs": [],
   "source": [
    "num = int(input(\"enter a number upto 5 digit: \"))\n",
    "\n",
    "if num <= 0 and num >= 9:\n",
    "    print(\"single digit\") \n",
    "elif num >= 10 and num <= 99:\n",
    "    print(\"two digit\")\n",
    "elif num >= 100 and num <= 999:\n",
    "    print(\"three digit\")\n",
    "elif num >= 1000 and num <= 9999:\n",
    "    print(\"four digit\")\n",
    "elif num >= 10000 and num <= 99999:\n",
    "    print(\"five digit\")\n",
    "else:\n",
    "    print(\"greater number  than 5 digit\")"
   ]
  },
  {
   "cell_type": "code",
   "execution_count": null,
   "metadata": {},
   "outputs": [],
   "source": [
    "n = int(input(\"enter a number: \"))\n",
    "for i in range(1, 11):\n",
    "    print(n, \"x\", i, \"=\", n*i)"
   ]
  },
  {
   "cell_type": "code",
   "execution_count": null,
   "metadata": {},
   "outputs": [],
   "source": [
    "n = 0\n",
    "while (n < 10):\n",
    "    print(n)\n",
    "    n += 1"
   ]
  },
  {
   "cell_type": "code",
   "execution_count": null,
   "metadata": {},
   "outputs": [],
   "source": [
    "num = int(input(\"enter a number: \"))    \n",
    "while num!=5 :\n",
    "    print(num,num * num)\n",
    "    num = int(input(\"enter a number: \"))\n",
    "    "
   ]
  },
  {
   "cell_type": "code",
   "execution_count": null,
   "metadata": {},
   "outputs": [],
   "source": [
    "count = 0\n",
    "while count < 5:\n",
    "    print(count,count*count,count*count*count)\n",
    "    count += 1"
   ]
  },
  {
   "cell_type": "code",
   "execution_count": null,
   "metadata": {},
   "outputs": [],
   "source": [
    "s = \"Mumbai\"\n",
    "lst = ['desert', 'dessert','to','too','lose','loose']\n",
    "tpl = (10,20,30,-20,-10)\n",
    "i = 0\n",
    "while i < len(lst):\n",
    "    print(i,s[i],lst[i],tpl[i])\n",
    "    i += 1"
   ]
  },
  {
   "cell_type": "code",
   "execution_count": null,
   "metadata": {},
   "outputs": [],
   "source": [
    "n = 1\n",
    "a = int(input(\"enter a number: \"))\n",
    "while n <= 10:\n",
    "    print(a, \"x\", n, \"=\", a*n)\n",
    "    n += 2"
   ]
  },
  {
   "cell_type": "code",
   "execution_count": null,
   "metadata": {},
   "outputs": [],
   "source": [
    "while True :\n",
    "    num1 = int(input(\"enter a number :\"))\n",
    "    num2 = int(input(\"enter a number :\"))\n",
    "\n",
    "    print(num1 + num2)  \n",
    "    choice = input(\"do you want to continue? y/n\")\n",
    "    if choice == \"n\":\n",
    "        break"
   ]
  },
  {
   "cell_type": "code",
   "execution_count": null,
   "metadata": {},
   "outputs": [],
   "source": [
    "for i in range(1 , 4) :\n",
    "    for j in range(1 , 11):\n",
    "        print(j, end= \" \")\n",
    "    print()"
   ]
  },
  {
   "cell_type": "code",
   "execution_count": null,
   "metadata": {},
   "outputs": [],
   "source": [
    "for i in range(1,6):\n",
    "    for j in range(1,i+1):\n",
    "        print('*',end=\" \")\n",
    "    print()"
   ]
  },
  {
   "cell_type": "code",
   "execution_count": null,
   "metadata": {},
   "outputs": [],
   "source": [
    "for i in range(1,11):\n",
    "    if i == 5:\n",
    "        break\n",
    "    else :\n",
    "        print(i,end=\" \")\n",
    "print(\"thank you\")"
   ]
  },
  {
   "cell_type": "code",
   "execution_count": null,
   "metadata": {},
   "outputs": [],
   "source": [
    "sum = 0\n",
    "for i in range(1,51):\n",
    "    if i % 2 == 0:\n",
    "        sum += i\n",
    "\n",
    "print(sum)\n"
   ]
  },
  {
   "cell_type": "code",
   "execution_count": null,
   "metadata": {},
   "outputs": [],
   "source": [
    "for i in range(1,21):\n",
    "    print(i,i*i)"
   ]
  },
  {
   "cell_type": "code",
   "execution_count": null,
   "metadata": {},
   "outputs": [],
   "source": [
    "n = 0\n",
    "sum =0\n",
    "while n <=20 :\n",
    "    if n % 2 != 0:\n",
    "        sum = sum + n\n",
    "   \n",
    "    n = n+1\n",
    "print(sum)\n"
   ]
  },
  {
   "cell_type": "code",
   "execution_count": null,
   "metadata": {},
   "outputs": [],
   "source": [
    "for i in range(8,101):\n",
    "    if i % n == 0 and i % 12 == 0:\n",
    "        print(i)\n",
    "        "
   ]
  },
  {
   "cell_type": "code",
   "execution_count": 40,
   "metadata": {},
   "outputs": [
    {
     "name": "stdout",
     "output_type": "stream",
     "text": [
      "name:  krishna \n",
      "age:  21\n",
      "address:  aligarh\n",
      "phone number:  7017715582\n",
      "total:  225\n",
      "produvts purchased:  samosa\n",
      "thank you for shopping\n"
     ]
    }
   ],
   "source": [
    "while True:\n",
    "    name = input(\"enter your name\") \n",
    "    age = int(input(\"enter your age\"))\n",
    "    address = input(\"enter your address\")   \n",
    "    phone_number = int(input(\"enter your phone number\"))\n",
    "    total = 0\n",
    "    while True:\n",
    "        product = input(\"enter the product\")\n",
    "        \n",
    "        price = int(input(\"enter the price\"))\n",
    "       \n",
    "        quantity = int(input(\"enter the quantity\"))\n",
    "        \n",
    "        total = total + price * quantity\n",
    "        choice = input(\"do you want to continue? y/n\")\n",
    "        if choice == \"n\":\n",
    "            break\n",
    "    print(\"name: \", name)\n",
    "    print(\"age: \", age)\n",
    "    print(\"address: \", address)\n",
    "    print(\"phone number: \", phone_number)\n",
    "    print(\"total: \", total)\n",
    "    print(\"produvts purchased: \", product)\n",
    "    print(\"thank you for shopping\")\n",
    "    choice = input(\"do you want to continue? y/n\")\n",
    "    if choice == \"n\":\n",
    "        break\n",
    "\n",
    "\n"
   ]
  },
  {
   "cell_type": "code",
   "execution_count": null,
   "metadata": {},
   "outputs": [],
   "source": [
    "a = \"Why fit in, When you were born to stand out\"\n",
    "print(a.count(\"o\"))\n",
    "print(len(a))\n",
    "\n",
    "x= a.lower()\n",
    "t= a.upper()\n",
    "y = a.capitalize()\n",
    "z =a.title()\n",
    "s = a.find(\"fit in\")\n",
    "print(x)\n",
    "print(y)\n",
    "print(z)\n",
    "print(t)\n",
    "print(s)    "
   ]
  },
  {
   "cell_type": "code",
   "execution_count": 79,
   "metadata": {},
   "outputs": [
    {
     "name": "stdout",
     "output_type": "stream",
     "text": [
      "* \n",
      "* * \n",
      "* * * \n",
      "* * * * \n",
      "* * * * * \n"
     ]
    }
   ],
   "source": [
    "for i in range(1,6): #for rows\n",
    "    for j in range(1,i+1): #for columns\n",
    "        print(\"*\",end=\" \")\n",
    "    print()"
   ]
  },
  {
   "cell_type": "code",
   "execution_count": 1,
   "metadata": {},
   "outputs": [
    {
     "name": "stdout",
     "output_type": "stream",
     "text": [
      "1 \n",
      "2 2 \n",
      "3 3 3 \n",
      "4 4 4 4 \n",
      "5 5 5 5 5 \n"
     ]
    }
   ],
   "source": [
    "for i in range(1,6): #for rows\n",
    "    for j in range(1,i+1): #for columns\n",
    "        print(i,end=\" \")\n",
    "    print()"
   ]
  },
  {
   "cell_type": "code",
   "execution_count": 2,
   "metadata": {},
   "outputs": [
    {
     "name": "stdout",
     "output_type": "stream",
     "text": [
      "1 1 1 1 1 \n",
      "2 2 2 2 \n",
      "3 3 3 \n",
      "4 4 \n",
      "5 \n"
     ]
    }
   ],
   "source": [
    "for i in range(1,6): #for rows\n",
    "    for j in range(6,i,-1): #for columns\n",
    "        print(i,end=\" \")\n",
    "    print()"
   ]
  },
  {
   "cell_type": "code",
   "execution_count": 3,
   "metadata": {},
   "outputs": [
    {
     "name": "stdout",
     "output_type": "stream",
     "text": [
      "        * \n",
      "      * * \n",
      "    * * * \n",
      "  * * * * \n",
      "* * * * * \n"
     ]
    }
   ],
   "source": [
    "for i in range(1,6): #for rows \n",
    "    for j in range(5,i,-1):\n",
    "         print(\" \",end=\" \") \n",
    "    for k in range(i): \n",
    "        print(\"*\",end=\" \") \n",
    "    print()"
   ]
  },
  {
   "cell_type": "code",
   "execution_count": 77,
   "metadata": {},
   "outputs": [
    {
     "name": "stdout",
     "output_type": "stream",
     "text": [
      "1 \n",
      "2 1 \n",
      "3 2 1 \n",
      "4 3 2 1 \n",
      "5 4 3 2 1 \n"
     ]
    }
   ],
   "source": [
    "for i in range(1,6):\n",
    "    for j in range(i,0,-1):\n",
    "        print(j,end=\" \")\n",
    "    print()"
   ]
  },
  {
   "cell_type": "code",
   "execution_count": 83,
   "metadata": {},
   "outputs": [
    {
     "name": "stdout",
     "output_type": "stream",
     "text": [
      "* \n",
      "* * \n",
      "* * * \n",
      "* * * * \n",
      "* * * * * \n",
      "* * * * \n",
      "* * * \n",
      "* * \n",
      "* \n",
      "\n"
     ]
    }
   ],
   "source": [
    "for i in range(1,6): #for rows\n",
    "    for j in range(1,i+1): #for columns\n",
    "        print(\"*\",end=\" \")\n",
    "    print()\n",
    "for i in range(5,0,-1):\n",
    "    for k in range(0,i-1):\n",
    "        print(\"*\",end=\" \")\n",
    "    print()\n"
   ]
  },
  {
   "cell_type": "code",
   "execution_count": 5,
   "metadata": {},
   "outputs": [
    {
     "name": "stdout",
     "output_type": "stream",
     "text": [
      "1 \n",
      "2 4 \n",
      "3 6 9 \n",
      "4 8 12 16 \n",
      "5 10 15 20 25 \n",
      "6 12 18 24 30 36 \n",
      "7 14 21 28 35 42 49 \n",
      "8 16 24 32 40 48 56 64 \n",
      "9 18 27 36 45 54 63 72 81 \n",
      "10 20 30 40 50 60 70 80 90 100 \n"
     ]
    }
   ],
   "source": [
    "for i in range(1,11):\n",
    "    for j in range(1,i+1):\n",
    "        print(i*j,end = \" \")\n",
    "    print()"
   ]
  },
  {
   "cell_type": "code",
   "execution_count": 6,
   "metadata": {},
   "outputs": [
    {
     "name": "stdout",
     "output_type": "stream",
     "text": [
      "Harry Potter and the Goblet of Fire\n"
     ]
    }
   ],
   "source": [
    "a = \"Harry Potter and the Goblet of Fire\"\n",
    "print(a)"
   ]
  },
  {
   "cell_type": "code",
   "execution_count": 8,
   "metadata": {},
   "outputs": [
    {
     "name": "stdout",
     "output_type": "stream",
     "text": [
      "35\n"
     ]
    }
   ],
   "source": [
    "a = \"Harry Potter and the Goblet of Fire\"\n",
    "print(len(a))"
   ]
  },
  {
   "cell_type": "code",
   "execution_count": 10,
   "metadata": {},
   "outputs": [
    {
     "name": "stdout",
     "output_type": "stream",
     "text": [
      "3\n"
     ]
    }
   ],
   "source": [
    "a = \"Harry Potter and the Goblet of Fire\"\n",
    "print(a.count(\"o\"))"
   ]
  },
  {
   "cell_type": "code",
   "execution_count": 11,
   "metadata": {},
   "outputs": [
    {
     "name": "stdout",
     "output_type": "stream",
     "text": [
      "harry potter and the goblet of fire\n"
     ]
    }
   ],
   "source": [
    "a = \"Harry Potter and the Goblet of Fire\"\n",
    "print(a.lower())"
   ]
  },
  {
   "cell_type": "code",
   "execution_count": 12,
   "metadata": {},
   "outputs": [
    {
     "name": "stdout",
     "output_type": "stream",
     "text": [
      "HARRY POTTER AND THE GOBLET OF FIRE\n"
     ]
    }
   ],
   "source": [
    "a = \"Harry Potter and the Goblet of Fire\"\n",
    "print(a.upper())"
   ]
  },
  {
   "cell_type": "code",
   "execution_count": 13,
   "metadata": {},
   "outputs": [
    {
     "name": "stdout",
     "output_type": "stream",
     "text": [
      "Harry potter and the goblet of fire\n"
     ]
    }
   ],
   "source": [
    "a = \"harry Potter and the Goblet of Fire\"\n",
    "print(a.capitalize())"
   ]
  },
  {
   "cell_type": "code",
   "execution_count": 14,
   "metadata": {},
   "outputs": [
    {
     "name": "stdout",
     "output_type": "stream",
     "text": [
      "17\n"
     ]
    }
   ],
   "source": [
    "a = \"Harry Potter and the Goblet of Fire\"\n",
    "print(a.index(\"the\"))"
   ]
  },
  {
   "cell_type": "code",
   "execution_count": 15,
   "metadata": {},
   "outputs": [
    {
     "name": "stdout",
     "output_type": "stream",
     "text": [
      "harry potter and the goblet of fire\n"
     ]
    }
   ],
   "source": [
    "a = \"Harry Potter And The Goblet of Fire\"\n",
    "print(a.casefold())"
   ]
  },
  {
   "cell_type": "code",
   "execution_count": 17,
   "metadata": {},
   "outputs": [
    {
     "name": "stdout",
     "output_type": "stream",
     "text": [
      "-1\n"
     ]
    }
   ],
   "source": [
    "a = \"Harry Potter and the Goblet of Fire\"\n",
    "print(a.find(\"o\",15,16))"
   ]
  },
  {
   "cell_type": "code",
   "execution_count": 18,
   "metadata": {},
   "outputs": [
    {
     "name": "stdout",
     "output_type": "stream",
     "text": [
      "My name is krishna\n"
     ]
    }
   ],
   "source": [
    "name = \"krishna\"\n",
    "b = \"My name is {}\"\n",
    "print(b.format(name))\n"
   ]
  },
  {
   "cell_type": "code",
   "execution_count": 20,
   "metadata": {},
   "outputs": [
    {
     "name": "stdout",
     "output_type": "stream",
     "text": [
      "******krishna*******\n"
     ]
    }
   ],
   "source": [
    "name = \"krishna\"\n",
    "print(name.center(20,\"*\"))"
   ]
  },
  {
   "cell_type": "code",
   "execution_count": 5,
   "metadata": {},
   "outputs": [
    {
     "name": "stdout",
     "output_type": "stream",
     "text": [
      "True\n"
     ]
    }
   ],
   "source": [
    "a = \"abc123\"\n",
    "print(a.isalnum())"
   ]
  },
  {
   "cell_type": "code",
   "execution_count": 7,
   "metadata": {},
   "outputs": [
    {
     "name": "stdout",
     "output_type": "stream",
     "text": [
      "True\n"
     ]
    }
   ],
   "source": [
    "a = \"abc\"\n",
    "print(a.isalpha())"
   ]
  },
  {
   "cell_type": "code",
   "execution_count": 8,
   "metadata": {},
   "outputs": [
    {
     "name": "stdout",
     "output_type": "stream",
     "text": [
      "True\n"
     ]
    }
   ],
   "source": [
    "a = \"123\"\n",
    "print(a.isdigit())"
   ]
  },
  {
   "cell_type": "code",
   "execution_count": 15,
   "metadata": {},
   "outputs": [
    {
     "name": "stdout",
     "output_type": "stream",
     "text": [
      "True\n"
     ]
    }
   ],
   "source": [
    "a = \"124565\"\n",
    "print(a.isnumeric())"
   ]
  },
  {
   "cell_type": "code",
   "execution_count": 17,
   "metadata": {},
   "outputs": [
    {
     "name": "stdout",
     "output_type": "stream",
     "text": [
      "False\n"
     ]
    }
   ],
   "source": [
    "a = \"AS DF\"\n",
    "print(a.isspace())"
   ]
  },
  {
   "cell_type": "code",
   "execution_count": 24,
   "metadata": {},
   "outputs": [
    {
     "name": "stdout",
     "output_type": "stream",
     "text": [
      "True\n"
     ]
    }
   ],
   "source": [
    "a = \" \" \n",
    "print (a.isspace())"
   ]
  },
  {
   "cell_type": "code",
   "execution_count": 27,
   "metadata": {},
   "outputs": [
    {
     "name": "stdout",
     "output_type": "stream",
     "text": [
      "The Title Of The Book Is Harry Potter And The Goblet Of Fire\n"
     ]
    }
   ],
   "source": [
    "a = \"The Title of the book is Harry Potter and the Goblet of Fire\"\n",
    "print(a.title())"
   ]
  },
  {
   "cell_type": "code",
   "execution_count": 28,
   "metadata": {},
   "outputs": [
    {
     "name": "stdout",
     "output_type": "stream",
     "text": [
      "True\n"
     ]
    }
   ],
   "source": [
    "a= \" The Title Of The Book Is Harry Potter And The Goblet Of Fire\"\n",
    "print(a.istitle())"
   ]
  },
  {
   "cell_type": "code",
   "execution_count": 34,
   "metadata": {},
   "outputs": [
    {
     "name": "stdout",
     "output_type": "stream",
     "text": [
      "True\n"
     ]
    }
   ],
   "source": [
    "a = \"1234456\"\n",
    "print(a.isdecimal())"
   ]
  },
  {
   "cell_type": "code",
   "execution_count": 39,
   "metadata": {},
   "outputs": [
    {
     "name": "stdout",
     "output_type": "stream",
     "text": [
      "True\n"
     ]
    }
   ],
   "source": [
    "a= \"Krishna Sharma\"\n",
    "print(a.endswith(\"a\"))"
   ]
  },
  {
   "cell_type": "code",
   "execution_count": 40,
   "metadata": {},
   "outputs": [
    {
     "name": "stdout",
     "output_type": "stream",
     "text": [
      "True\n"
     ]
    }
   ],
   "source": [
    "a = \"Krishna Sharma\"\n",
    "print(a.startswith(\"K\"))"
   ]
  },
  {
   "cell_type": "code",
   "execution_count": 41,
   "metadata": {},
   "outputs": [
    {
     "name": "stdout",
     "output_type": "stream",
     "text": [
      " KRISHNA SHARMA\n"
     ]
    }
   ],
   "source": [
    "a= \" krishna sharma\"\n",
    "print(a.swapcase())"
   ]
  },
  {
   "cell_type": "code",
   "execution_count": 42,
   "metadata": {},
   "outputs": [
    {
     "name": "stdout",
     "output_type": "stream",
     "text": [
      "  krishna sharma\n"
     ]
    }
   ],
   "source": [
    "a = \"  KRISHNA SHARMA\"\n",
    "print(a.swapcase())"
   ]
  },
  {
   "cell_type": "code",
   "execution_count": 47,
   "metadata": {},
   "outputs": [
    {
     "name": "stdout",
     "output_type": "stream",
     "text": [
      "Krishna Sharma.......\n"
     ]
    }
   ],
   "source": [
    "a = \"Krishna Sharma.......\"\n",
    "print(a.strip('Sharma'))"
   ]
  },
  {
   "cell_type": "code",
   "execution_count": 48,
   "metadata": {},
   "outputs": [
    {
     "name": "stdout",
     "output_type": "stream",
     "text": [
      "Krishna Sharma******\n"
     ]
    }
   ],
   "source": [
    "a = \"******Krishna Sharma******\"\n",
    "print(a.lstrip('*'))\n"
   ]
  },
  {
   "cell_type": "code",
   "execution_count": 49,
   "metadata": {},
   "outputs": [
    {
     "name": "stdout",
     "output_type": "stream",
     "text": [
      "******Krishna Sharma\n"
     ]
    }
   ],
   "source": [
    "a = \"******Krishna Sharma******\"\n",
    "print(a.rstrip('*'))    "
   ]
  },
  {
   "cell_type": "code",
   "execution_count": 54,
   "metadata": {},
   "outputs": [
    {
     "name": "stdout",
     "output_type": "stream",
     "text": [
      " was here\n"
     ]
    }
   ],
   "source": [
    "a= \"Krishna was here\"\n",
    "print(a.strip('Krishna'))"
   ]
  },
  {
   "cell_type": "code",
   "execution_count": 56,
   "metadata": {},
   "outputs": [
    {
     "name": "stdout",
     "output_type": "stream",
     "text": [
      "[' krishna', 'ayush', 'anukriti', 'rishika', '']\n"
     ]
    }
   ],
   "source": [
    "a= \" krishna*ayush*anukriti*rishika*\"\n",
    "print(a.split('*'))"
   ]
  },
  {
   "cell_type": "code",
   "execution_count": 4,
   "metadata": {},
   "outputs": [
    {
     "name": "stdout",
     "output_type": "stream",
     "text": [
      "11111111Krishna Sharma\n"
     ]
    }
   ],
   "source": [
    "x = 'Krishna Sharma'\n",
    "y = x.rjust(22,'1')\n",
    "print(y)"
   ]
  },
  {
   "cell_type": "code",
   "execution_count": 5,
   "metadata": {},
   "outputs": [
    {
     "name": "stdout",
     "output_type": "stream",
     "text": [
      "sharma\n"
     ]
    }
   ],
   "source": [
    "x = 'krishna'\n",
    "print(x.replace('krishna', 'sharma'))"
   ]
  },
  {
   "cell_type": "code",
   "execution_count": 6,
   "metadata": {},
   "outputs": [
    {
     "name": "stdout",
     "output_type": "stream",
     "text": [
      "34\n"
     ]
    }
   ],
   "source": [
    "x = \"krishna sharma wants to become an data analyst\"\n",
    "print(x.rindex(\"data\"))"
   ]
  },
  {
   "cell_type": "code",
   "execution_count": 13,
   "metadata": {},
   "outputs": [
    {
     "name": "stdout",
     "output_type": "stream",
     "text": [
      "8\n"
     ]
    }
   ],
   "source": [
    "x = \"returns returns and returns\"\n",
    "print(x.rfind(\"returns\",7,15))"
   ]
  },
  {
   "cell_type": "code",
   "execution_count": 16,
   "metadata": {},
   "outputs": [
    {
     "name": "stdout",
     "output_type": "stream",
     "text": [
      "r\n",
      "h\n"
     ]
    }
   ],
   "source": [
    "x = \"krishna\"\n",
    "print(x[1])\n",
    "print(x[-3])"
   ]
  },
  {
   "cell_type": "code",
   "execution_count": 17,
   "metadata": {},
   "outputs": [
    {
     "name": "stdout",
     "output_type": "stream",
     "text": [
      "['Harry', 'potter', 'and', 'the', 'goblet', 'of', 'fire']\n"
     ]
    }
   ],
   "source": [
    "x = \"Harry potter and the goblet of fire\"\n",
    "y = x.split()\n",
    "print(y)"
   ]
  },
  {
   "cell_type": "code",
   "execution_count": 23,
   "metadata": {},
   "outputs": [
    {
     "name": "stdout",
     "output_type": "stream",
     "text": [
      "pott\n",
      "Hry\n",
      "Harry\n",
      "fire\n"
     ]
    }
   ],
   "source": [
    "x = \"Harry potter and the goblet of fire\"\n",
    "print(x[6:10])\n",
    "print(x[0:5:2])\n",
    "print(x[:5])\n",
    "print(x[-4:])"
   ]
  },
  {
   "cell_type": "code",
   "execution_count": 27,
   "metadata": {},
   "outputs": [
    {
     "name": "stdout",
     "output_type": "stream",
     "text": [
      "1\n"
     ]
    }
   ],
   "source": [
    "a= 0\n",
    "b = 1\n",
    "n = int(input(\"enter a number: \"))\n",
    "if n == 1:\n",
    "    print(b)\n",
    "else :\n",
    "    print(a)\n",
    "    print(b)\n",
    "    for i in range(2,n):\n",
    "      c= a + b\n",
    "      a = b\n",
    "      b = c \n",
    "      print(c)\n"
   ]
  },
  {
   "cell_type": "code",
   "execution_count": 31,
   "metadata": {},
   "outputs": [
    {
     "name": "stdout",
     "output_type": "stream",
     "text": [
      "Number is prime\n"
     ]
    }
   ],
   "source": [
    "num = int(input(\"Enter a number: \"))\n",
    "\n",
    "if num <= 1:\n",
    "    print(\"Number is not prime\")\n",
    "else:\n",
    "    for i in range(2, num):\n",
    "        if num % i == 0:\n",
    "            print(\"Number is not prime\")\n",
    "            break\n",
    "    else:\n",
    "        print(\"Number is prime\")\n"
   ]
  },
  {
   "cell_type": "code",
   "execution_count": 38,
   "metadata": {},
   "outputs": [
    {
     "name": "stdout",
     "output_type": "stream",
     "text": [
      "Reversed number: 333\n",
      "Palindrome\n"
     ]
    }
   ],
   "source": [
    "num = int(input(\"Enter any number: \"))\n",
    "temp = num     # save the original number\n",
    "rev = 0\n",
    "\n",
    "while num > 0:\n",
    "    rem = num % 10\n",
    "    rev = rev * 10 + rem\n",
    "    num = num // 10\n",
    "\n",
    "print(\"Reversed number:\", rev)\n",
    "\n",
    "if temp == rev:\n",
    "    print(\"Palindrome\")\n",
    "else:\n",
    "    print(\"Not Palindrome\")\n"
   ]
  },
  {
   "cell_type": "code",
   "execution_count": 1,
   "metadata": {},
   "outputs": [
    {
     "name": "stdout",
     "output_type": "stream",
     "text": [
      "****** AREA CALCULATOR ******\n",
      "\n",
      "1. Area of Circle\n",
      "2. Area of Rectangle\n",
      "3. Area of Square\n",
      "4. Area of Triangle\n",
      "5. Exit\n",
      "\n",
      "Area of square is: 121.00\n",
      "\n",
      "1. Area of Circle\n",
      "2. Area of Rectangle\n",
      "3. Area of Square\n",
      "4. Area of Triangle\n",
      "5. Exit\n",
      "\n",
      "Exiting the calculator. Goodbye!\n"
     ]
    }
   ],
   "source": [
    "print(\"****** AREA CALCULATOR ******\")\n",
    "\n",
    "def ask_repeat():\n",
    "    repeat = input(\"Do you want to try again? (yes/no): \")\n",
    "    return repeat.lower() == \"yes\"\n",
    "\n",
    "while True:\n",
    "    print(\"\"\"\n",
    "1. Area of Circle\n",
    "2. Area of Rectangle\n",
    "3. Area of Square\n",
    "4. Area of Triangle\n",
    "5. Exit\n",
    "\"\"\")\n",
    "\n",
    "    try:\n",
    "        choice = int(input(\"Enter your choice (1-5): \"))\n",
    "    except ValueError:\n",
    "        print(\"Please enter a valid number.\")\n",
    "        continue\n",
    "\n",
    "    if choice == 5:\n",
    "        print(\"Exiting the calculator. Goodbye!\")\n",
    "        break\n",
    "\n",
    "    elif choice == 1:\n",
    "        while True:\n",
    "            try:\n",
    "                radius = float(input(\"Enter the radius of the circle: \"))\n",
    "                area = 3.14 * radius ** 2\n",
    "                print(f\"Area of circle is: {area:.2f}\")\n",
    "            except ValueError:\n",
    "                print(\"Please enter a valid number for radius.\")\n",
    "                continue\n",
    "            if not ask_repeat():\n",
    "                break\n",
    "\n",
    "    elif choice == 2:\n",
    "        while True:\n",
    "            try:\n",
    "                length = float(input(\"Enter the length of the rectangle: \"))\n",
    "                breadth = float(input(\"Enter the breadth of the rectangle: \"))\n",
    "                area = length * breadth\n",
    "                print(f\"Area of rectangle is: {area:.2f}\")\n",
    "            except ValueError:\n",
    "                print(\"Please enter valid numbers.\")\n",
    "                continue\n",
    "            if not ask_repeat():\n",
    "                break\n",
    "\n",
    "    elif choice == 3:\n",
    "        while True:\n",
    "            try:\n",
    "                side = float(input(\"Enter the side of the square: \"))\n",
    "                area = side ** 2\n",
    "                print(f\"Area of square is: {area:.2f}\")\n",
    "            except ValueError:\n",
    "                print(\"Please enter a valid number for side.\")\n",
    "                continue\n",
    "            if not ask_repeat():\n",
    "                break\n",
    "\n",
    "    elif choice == 4:\n",
    "        while True:\n",
    "            try:\n",
    "                base = float(input(\"Enter the base of the triangle: \"))\n",
    "                height = float(input(\"Enter the height of the triangle: \"))\n",
    "                area = 0.5 * base * height\n",
    "                print(f\"Area of triangle is: {area:.2f}\")\n",
    "            except ValueError:\n",
    "                print(\"Please enter valid numbers.\")\n",
    "                continue\n",
    "            if not ask_repeat():\n",
    "                break\n",
    "\n",
    "    else:\n",
    "        print(\"Invalid choice. Please try again.\")\n"
   ]
  },
  {
   "cell_type": "code",
   "execution_count": 2,
   "metadata": {},
   "outputs": [
    {
     "name": "stdout",
     "output_type": "stream",
     "text": [
      "['OOTD', 'YOLO', 'ASAP', 'BRB', 'GTG', 'OTW']\n"
     ]
    }
   ],
   "source": [
    "a= \"OOTD.YOLO.ASAP.BRB.GTG.OTW\"\n",
    "print(a.split('.'))"
   ]
  },
  {
   "cell_type": "code",
   "execution_count": 7,
   "metadata": {},
   "outputs": [
    {
     "name": "stdout",
     "output_type": "stream",
     "text": [
      "[' ', 'a', 'a', 'a', 'h', 'h', 'i', 'k', 'm', 'n', 'r', 'r', 's', 's']\n"
     ]
    }
   ],
   "source": [
    "a= \"krishna sharma\"\n",
    "b = sorted(a)\n",
    "print(b)"
   ]
  },
  {
   "cell_type": "code",
   "execution_count": 8,
   "metadata": {},
   "outputs": [
    {
     "name": "stdout",
     "output_type": "stream",
     "text": [
      "FRIENDS\n"
     ]
    }
   ],
   "source": [
    "z = \"F.R.I.E.N.D.S\"\n",
    "print(z.replace('.',\"\"))"
   ]
  },
  {
   "cell_type": "code",
   "execution_count": 2,
   "metadata": {},
   "outputs": [
    {
     "name": "stdout",
     "output_type": "stream",
     "text": [
      "2\n"
     ]
    }
   ],
   "source": [
    "a = \"The Harry Potter series is a series of seven fantasy novels written by British author J. K. Rowling.\"\n",
    "b = a.count('series')\n",
    "print(b)"
   ]
  },
  {
   "cell_type": "code",
   "execution_count": 3,
   "metadata": {},
   "outputs": [
    {
     "name": "stdout",
     "output_type": "stream",
     "text": [
      "ayituhc\n"
     ]
    }
   ],
   "source": [
    "a = input(\"Enter a string: \")\n",
    "print(a[::-1])"
   ]
  },
  {
   "cell_type": "code",
   "execution_count": 4,
   "metadata": {},
   "outputs": [
    {
     "name": "stdout",
     "output_type": "stream",
     "text": [
      "False\n"
     ]
    }
   ],
   "source": [
    "a = input(\"Enter a string: \")\n",
    "print(a.isdigit())"
   ]
  },
  {
   "cell_type": "code",
   "execution_count": 6,
   "metadata": {},
   "outputs": [
    {
     "name": "stdout",
     "output_type": "stream",
     "text": [
      "aaa\n",
      "Palindrome\n"
     ]
    }
   ],
   "source": [
    "a = input(\"Enter a string: \")\n",
    "print(a[::-1])\n",
    "\n",
    "if a == a[::-1]:\n",
    "    print(\"Palindrome\")\n",
    "else:\n",
    "    print(\"Not Palindrome\") "
   ]
  },
  {
   "cell_type": "code",
   "execution_count": 7,
   "metadata": {},
   "outputs": [
    {
     "name": "stdout",
     "output_type": "stream",
     "text": [
      "Number of vowels in the string: 5\n"
     ]
    }
   ],
   "source": [
    "a = input(\"Enter a string: \")\n",
    "vowels = 0\n",
    "for i in a:\n",
    "    if i=='a' or i=='e' or i=='i' or i=='o' or i=='u' or i=='A' or i=='E' or i=='I' or i=='O' or i=='U':\n",
    "        vowels += 1\n",
    "print(\"Number of vowels in the string:\", vowels)"
   ]
  },
  {
   "cell_type": "code",
   "execution_count": 9,
   "metadata": {},
   "outputs": [
    {
     "name": "stdout",
     "output_type": "stream",
     "text": [
      "True\n"
     ]
    }
   ],
   "source": [
    "a = \"The Title Of The Book Is Harry Potter And The Goblet Of Fire\"\n",
    "print(a.istitle())"
   ]
  },
  {
   "cell_type": "code",
   "execution_count": 12,
   "metadata": {},
   "outputs": [
    {
     "name": "stdout",
     "output_type": "stream",
     "text": [
      "['apple', 'banana', 'cherry', 'mango']\n"
     ]
    }
   ],
   "source": [
    "fruits= [\"apple\", \"banana\", \"cherry\", \"mango\"]\n",
    "print(fruits)"
   ]
  },
  {
   "cell_type": "code",
   "execution_count": 60,
   "metadata": {},
   "outputs": [
    {
     "name": "stdout",
     "output_type": "stream",
     "text": [
      "['krishna sharma', 48, 'CSBS', 7.92]\n",
      "<class 'list'>\n",
      "krishna sharma\n"
     ]
    }
   ],
   "source": [
    "student_id = [\"krishna sharma\", 48,\"CSBS\",7.92 ]\n",
    "print(student_id)\n",
    "print(type(student_id))\n",
    "print(student_id[0])"
   ]
  },
  {
   "cell_type": "code",
   "execution_count": null,
   "metadata": {},
   "outputs": [
    {
     "name": "stdout",
     "output_type": "stream",
     "text": [
      "Iron Man\n",
      "['Thor', 'Hulk']\n",
      "['Captain America', 'Hulk', 'Thor', 'Iron Man']\n",
      "Captain America\n",
      "['Iron Man', 'Hulk']\n"
     ]
    }
   ],
   "source": [
    "a = [\"Iron Man\", \"Thor\", \"Hulk\", \"Captain America\"]\n",
    "print(a[0])\n",
    "print(a[1:3])\n",
    "print(a[::-1]) #reverse the list\n",
    "print(a[-1])\n",
    "print(a[::2]) #gap deta h 2 2 elements ka"
   ]
  },
  {
   "cell_type": "code",
   "execution_count": 20,
   "metadata": {},
   "outputs": [
    {
     "name": "stdout",
     "output_type": "stream",
     "text": [
      "Iron Man\n",
      "Thor\n",
      "Hulk\n",
      "Captain America\n"
     ]
    }
   ],
   "source": [
    "a = [\"Iron Man\", \"Thor\", \"Hulk\", \"Captain America\"]\n",
    "for i in a:\n",
    "    print(i)"
   ]
  },
  {
   "cell_type": "code",
   "execution_count": 21,
   "metadata": {},
   "outputs": [
    {
     "name": "stdout",
     "output_type": "stream",
     "text": [
      "Iron Man\n",
      "Thor\n",
      "Hulk\n",
      "Captain America\n"
     ]
    }
   ],
   "source": [
    "a = [\"Iron Man\", \"Thor\", \"Hulk\", \"Captain America\"]\n",
    "for i in range(len(a)):\n",
    "    print(a[i])"
   ]
  },
  {
   "cell_type": "code",
   "execution_count": 23,
   "metadata": {},
   "outputs": [
    {
     "name": "stdout",
     "output_type": "stream",
     "text": [
      "Iron Man\n",
      "Thor\n",
      "Hulk\n",
      "Captain America\n"
     ]
    }
   ],
   "source": [
    "a = [\"Iron Man\", \"Thor\", \"Hulk\", \"Captain America\"]\n",
    "i = 0\n",
    "while i < len(a):\n",
    "    print(a[i])\n",
    "    i=  i +1"
   ]
  },
  {
   "cell_type": "code",
   "execution_count": 24,
   "metadata": {},
   "outputs": [
    {
     "name": "stdout",
     "output_type": "stream",
     "text": [
      "Iron Man\n",
      "Thor\n",
      "Hulk\n",
      "Captain America\n"
     ]
    },
    {
     "data": {
      "text/plain": [
       "[None, None, None, None]"
      ]
     },
     "execution_count": 24,
     "metadata": {},
     "output_type": "execute_result"
    }
   ],
   "source": [
    "a = [\"Iron Man\", \"Thor\", \"Hulk\", \"Captain America\"]\n",
    "[print(i) for i in a] #list comprehension"
   ]
  },
  {
   "cell_type": "code",
   "execution_count": 37,
   "metadata": {},
   "outputs": [
    {
     "name": "stdout",
     "output_type": "stream",
     "text": [
      "4\n",
      "1\n",
      "['Iron Man', 'Thor', 'Hulk', 'Captain America', 'Black Widow']\n",
      "None\n",
      "['Iron Man', 'Thor', 'Hulk', 'Spiderman', 'Doctor Strange', 'Hulk', 'Vision', 'Captain America', 'Black Widow']\n",
      "None\n",
      "['Iron Man', 'Thor', 'Spiderman', 'Doctor Strange', 'Hulk', 'Vision', 'Captain America', 'Black Widow']\n",
      "Doctor Strange\n",
      "['Iron Man', 'Thor', 'Spiderman', 'Hulk', 'Vision', 'Captain America', 'Black Widow']\n"
     ]
    }
   ],
   "source": [
    "a = [\"Iron Man\", \"Thor\", \"Hulk\", \"Captain America\"]\n",
    "##b= a.__len__()\n",
    "print(len(a)) #length of list\n",
    "print(a.count(\"Thor\")) #count of element in list\n",
    "b = a.append(\"Black Widow\") #add element in list\n",
    "print(a) #append method\n",
    "print(a.insert(3,\"Vision\"))\n",
    "a[3:3] = [\"Spiderman\",\"Doctor Strange\",\"Hulk\"]\n",
    "print(a)\n",
    "print(a.remove(\"Hulk\")) #remove element from list+\n",
    "print(a)\n",
    "print(a.pop(3)) #remove element from list by index\n",
    "print(a)"
   ]
  },
  {
   "cell_type": "code",
   "execution_count": 38,
   "metadata": {},
   "outputs": [
    {
     "name": "stdout",
     "output_type": "stream",
     "text": [
      "['Iron Man', 'Thor', 'Hulk', 'Captain America']\n"
     ]
    }
   ],
   "source": [
    "a = [\"Iron Man\", \"Thor\", \"Hulk\", \"Captain America\"]\n",
    "b = []\n",
    "b = a.copy()\n",
    "print(b)"
   ]
  },
  {
   "cell_type": "code",
   "execution_count": 40,
   "metadata": {},
   "outputs": [
    {
     "name": "stdout",
     "output_type": "stream",
     "text": [
      "1\n"
     ]
    }
   ],
   "source": [
    "a = [\"Iron Man\", \"Thor\", \"Hulk\", \"Captain America\"]\n",
    "print(a.index(\"Thor\")) #index of element in list"
   ]
  },
  {
   "cell_type": "code",
   "execution_count": 41,
   "metadata": {},
   "outputs": [
    {
     "name": "stdout",
     "output_type": "stream",
     "text": [
      "['Iron Man', 'Thor', 'Hulk', 'Captain America', 'Black Widow', 'Vision', 'Spiderman']\n"
     ]
    }
   ],
   "source": [
    "a = [\"Iron Man\", \"Thor\", \"Hulk\", \"Captain America\"]\n",
    "c = [\"Black Widow\", \"Vision\", \"Spiderman\"]\n",
    "a.extend(c) #extend method\n",
    "print(a)"
   ]
  },
  {
   "cell_type": "code",
   "execution_count": 42,
   "metadata": {},
   "outputs": [
    {
     "name": "stdout",
     "output_type": "stream",
     "text": [
      "['Captain America', 'Hulk', 'Thor', 'Iron Man']\n"
     ]
    }
   ],
   "source": [
    "a = [\"Iron Man\", \"Thor\", \"Hulk\", \"Captain America\"]\n",
    "a.reverse() #reverse method\n",
    "print(a)"
   ]
  },
  {
   "cell_type": "code",
   "execution_count": 43,
   "metadata": {},
   "outputs": [
    {
     "name": "stdout",
     "output_type": "stream",
     "text": [
      "['Captain America', 'Hulk', 'Iron Man', 'Thor']\n"
     ]
    }
   ],
   "source": [
    "a = [\"Iron Man\", \"Thor\", \"Hulk\", \"Captain America\"]\n",
    "a.sort()\n",
    "print(a) #sort method"
   ]
  },
  {
   "cell_type": "code",
   "execution_count": 44,
   "metadata": {},
   "outputs": [
    {
     "name": "stdout",
     "output_type": "stream",
     "text": [
      "[]\n"
     ]
    }
   ],
   "source": [
    "a = [\"Iron Man\", \"Thor\", \"Hulk\", \"Captain America\"]\n",
    "a.clear() #clear method\n",
    "print(a)"
   ]
  },
  {
   "cell_type": "code",
   "execution_count": 45,
   "metadata": {},
   "outputs": [
    {
     "name": "stdout",
     "output_type": "stream",
     "text": [
      "['joe', 'Rachel', 'Monica', 'Ross']\n"
     ]
    }
   ],
   "source": [
    "a = [\"Ross\",\"Rachel\",\"Monica\",\"joe\"]\n",
    "a[0],a[3] = a[3],a[0] #swap method\n",
    "print(a)"
   ]
  },
  {
   "cell_type": "code",
   "execution_count": 47,
   "metadata": {},
   "outputs": [
    {
     "name": "stdout",
     "output_type": "stream",
     "text": [
      "['Ross', 'Rachel', 'Chandler', 'Monica', 'joe']\n"
     ]
    }
   ],
   "source": [
    "a = [\"Ross\",\"Rachel\",\"Monica\",\"joe\"]\n",
    "a.insert(2,\"Chandler\") #insert method\n",
    "print(a)"
   ]
  },
  {
   "cell_type": "code",
   "execution_count": 48,
   "metadata": {},
   "outputs": [
    {
     "name": "stdout",
     "output_type": "stream",
     "text": [
      "['Ross', 'Rachel', 'Chandler', 'joe']\n"
     ]
    }
   ],
   "source": [
    "a = ['Ross', 'Rachel', 'Chandler', 'Monica', 'joe']\n",
    "a.pop(3)\n",
    "print(a)\n"
   ]
  },
  {
   "cell_type": "code",
   "execution_count": 53,
   "metadata": {},
   "outputs": [
    {
     "name": "stdout",
     "output_type": "stream",
     "text": [
      "10920\n"
     ]
    }
   ],
   "source": [
    "b = [13,7,12,10]\n",
    "mul = 1\n",
    "for i in b:\n",
    "    mul *= i\n",
    "print(mul)"
   ]
  },
  {
   "cell_type": "code",
   "execution_count": 54,
   "metadata": {},
   "outputs": [
    {
     "name": "stdout",
     "output_type": "stream",
     "text": [
      "13\n"
     ]
    }
   ],
   "source": [
    "b = [13,7,12,10]\n",
    "largest = 0\n",
    "for i in b:\n",
    "    if i > largest:\n",
    "        largest = i \n",
    "print(largest)"
   ]
  },
  {
   "cell_type": "code",
   "execution_count": 56,
   "metadata": {},
   "outputs": [
    {
     "name": "stdout",
     "output_type": "stream",
     "text": [
      "7\n"
     ]
    }
   ],
   "source": [
    "b = [13,7,12,10]\n",
    "smallest = b[0]\n",
    "for i in b :\n",
    "    if i < smallest:\n",
    "        smallest = i\n",
    "print(smallest)"
   ]
  },
  {
   "cell_type": "code",
   "execution_count": 66,
   "metadata": {},
   "outputs": [
    {
     "name": "stdout",
     "output_type": "stream",
     "text": [
      "<class 'tuple'>\n",
      "<class 'tuple'>\n"
     ]
    }
   ],
   "source": [
    "a  = (\"krishna\",\"sharma\", 48, 7.92)\n",
    "print(type(a))\n",
    "b = \"krishna\",\n",
    "print(type(b))"
   ]
  },
  {
   "cell_type": "code",
   "execution_count": 69,
   "metadata": {},
   "outputs": [
    {
     "name": "stdout",
     "output_type": "stream",
     "text": [
      "{\"name\": \"krishna\", \"age\": 21, \"grade\": 7.92}\n",
      "<class 'str'>\n"
     ]
    }
   ],
   "source": [
    "import json\n",
    "student_data = {\"name\": \"krishna\", \"age\": 21, \"grade\": 7.92}\n",
    "data =  json.dumps(student_data)\n",
    "print(data)\n",
    "print(type(data))"
   ]
  },
  {
   "cell_type": "code",
   "execution_count": 6,
   "metadata": {},
   "outputs": [
    {
     "name": "stdout",
     "output_type": "stream",
     "text": [
      "21\n"
     ]
    }
   ],
   "source": [
    "import json\n",
    "\n",
    "student_data = {\"name\": \"krishna\", \"age\": 21, \"grade\": 7.92}\n",
    "\n",
    "# Convert Python dict to JSON string\n",
    "data1 = json.dumps(student_data)\n",
    "\n",
    "# Convert JSON string back to Python dict\n",
    "data = json.loads(data1)\n",
    "\n",
    "# Access a value\n",
    "print(data[\"age\"])\n"
   ]
  },
  {
   "cell_type": "code",
   "execution_count": 7,
   "metadata": {},
   "outputs": [
    {
     "name": "stdout",
     "output_type": "stream",
     "text": [
      "{\n",
      "  \"name\"=\"krishna\",\n",
      "  \"age\"=21,\n",
      "  \"grade\"=7.92\n",
      "}\n"
     ]
    }
   ],
   "source": [
    "import json\n",
    "\n",
    "student_data = {\"name\": \"krishna\", \"age\": 21, \"grade\": 7.92}\n",
    "\n",
    "data = json.dumps(student_data, indent = 2, separators=(\",\",\"=\"))\n",
    "print(data)"
   ]
  },
  {
   "cell_type": "code",
   "execution_count": 11,
   "metadata": {},
   "outputs": [
    {
     "data": {
      "text/plain": [
       "59"
      ]
     },
     "execution_count": 11,
     "metadata": {},
     "output_type": "execute_result"
    }
   ],
   "source": [
    "import json\n",
    "\n",
    "student_data = {\"name\": \"krishna\", \"age\": 21, \"grade\": 7.92}\n",
    "\n",
    "f= open(\"demo.json\", \"w\")\n",
    "data = json.dumps(student_data,indent = 4, sort_keys= True)\n",
    "f.write(data)"
   ]
  },
  {
   "cell_type": "code",
   "execution_count": 1,
   "metadata": {},
   "outputs": [],
   "source": [
    "import json\n",
    "\n",
    "student_data = {\"name\": \"krishna\", \"age\": 21, \"grade\": 7.92}\n",
    "\n",
    "data = json.dumps(student_data, indent=4, sort_keys=True)\n",
    "with open(\"demo.json\", \"w\") as f:\n",
    "    f.write(data)\n"
   ]
  },
  {
   "cell_type": "code",
   "execution_count": 2,
   "metadata": {},
   "outputs": [
    {
     "name": "stdout",
     "output_type": "stream",
     "text": [
      "{1, 2, 3, 4, 5}\n",
      "<class 'set'>\n"
     ]
    }
   ],
   "source": [
    "my_set = {1,2,3,4,5}\n",
    "print(my_set)\n",
    "print(type(my_set))"
   ]
  },
  {
   "cell_type": "code",
   "execution_count": 3,
   "metadata": {},
   "outputs": [
    {
     "name": "stdout",
     "output_type": "stream",
     "text": [
      "set()\n"
     ]
    }
   ],
   "source": [
    "my_set= set()\n",
    "print(my_set)\n"
   ]
  },
  {
   "cell_type": "code",
   "execution_count": 5,
   "metadata": {},
   "outputs": [
    {
     "name": "stdout",
     "output_type": "stream",
     "text": [
      "{1, 21, 414}\n"
     ]
    }
   ],
   "source": [
    "my_set= set([1,21,1,414,414])\n",
    "print(my_set)"
   ]
  },
  {
   "cell_type": "code",
   "execution_count": 9,
   "metadata": {},
   "outputs": [
    {
     "name": "stdout",
     "output_type": "stream",
     "text": [
      "set()\n",
      "{55}\n",
      "{58}\n"
     ]
    }
   ],
   "source": [
    "my_set= set()\n",
    "print(my_set)\n",
    "my_set.add(55)\n",
    "print(my_set)\n",
    "my_set.add(58)\n",
    "my_set.remove(55)\n",
    "print(my_set)"
   ]
  },
  {
   "cell_type": "code",
   "execution_count": null,
   "metadata": {},
   "outputs": [
    {
     "name": "stdout",
     "output_type": "stream",
     "text": [
      "{1, 21, 414}\n",
      "{1, 21}\n"
     ]
    }
   ],
   "source": [
    "my_set= set([1,21,1,414,414])\n",
    "print(my_set)\n",
    "my_set.discard(414)                                                    \n",
    "print(my_set) #discard method"
   ]
  },
  {
   "cell_type": "code",
   "execution_count": 13,
   "metadata": {},
   "outputs": [
    {
     "name": "stdout",
     "output_type": "stream",
     "text": [
      "True\n",
      "False\n",
      "False\n",
      "True\n"
     ]
    }
   ],
   "source": [
    "my_set={1,2,3,4,5}\n",
    "print(3 in my_set) #in operator\n",
    "print(6 in my_set) #in operator\n",
    "print(3 not in my_set) #not in operator\n",
    "print(6 not in my_set) #not in operator"
   ]
  },
  {
   "cell_type": "code",
   "execution_count": 14,
   "metadata": {},
   "outputs": [
    {
     "name": "stdout",
     "output_type": "stream",
     "text": [
      "{1, 2, 3, 4, 5, 6, 7, 8, 9}\n",
      "{4, 5, 6}\n",
      "None\n"
     ]
    }
   ],
   "source": [
    "set1 = {1,2,3,4,5,6}\n",
    "set2 = {4,5,6,7,8,9}\n",
    "\n",
    "set3 = set1.union(set2) #union method\n",
    "print(set3) #union method\n",
    "set3 = set1.intersection(set2) #intersection method\n",
    "print(set3) #intersection method\n",
    "set3 = set1.intersection_update(set2) #intersection update method\n",
    "print(set3) #intersection update method"
   ]
  },
  {
   "cell_type": "code",
   "execution_count": null,
   "metadata": {},
   "outputs": [
    {
     "ename": "NameError",
     "evalue": "name 's' is not defined",
     "output_type": "error",
     "traceback": [
      "\u001b[1;31m---------------------------------------------------------------------------\u001b[0m",
      "\u001b[1;31mNameError\u001b[0m                                 Traceback (most recent call last)",
      "Cell \u001b[1;32mIn[1], line 4\u001b[0m\n\u001b[0;32m      1\u001b[0m set1 \u001b[38;5;241m=\u001b[39m {\u001b[38;5;241m1\u001b[39m,\u001b[38;5;241m2\u001b[39m,\u001b[38;5;241m3\u001b[39m,\u001b[38;5;241m4\u001b[39m,\u001b[38;5;241m5\u001b[39m,\u001b[38;5;241m6\u001b[39m}\n\u001b[0;32m      2\u001b[0m set2 \u001b[38;5;241m=\u001b[39m {\u001b[38;5;241m4\u001b[39m,\u001b[38;5;241m5\u001b[39m,\u001b[38;5;241m6\u001b[39m,\u001b[38;5;241m7\u001b[39m,\u001b[38;5;241m8\u001b[39m,\u001b[38;5;241m9\u001b[39m}\n\u001b[1;32m----> 4\u001b[0m \u001b[38;5;28mprint\u001b[39m(set1\u001b[38;5;241m.\u001b[39mdifference(\u001b[43ms\u001b[49m))\n",
      "\u001b[1;31mNameError\u001b[0m: name 's' is not defined"
     ]
    },
    {
     "name": "stdout",
     "output_type": "stream",
     "text": [
      "{1, 2, 3}\n"
     ]
    }
   ],
   "source": [
    "set1 = {1,2,3,4,5,6}\n",
    "set2 = {4,5,6,7,8,9}\n",
    "\n",
    "print(set1.difference(set2))"
   ]
  },
  {
   "cell_type": "code",
   "execution_count": null,
   "metadata": {},
   "outputs": [
    {
     "name": "stdout",
     "output_type": "stream",
     "text": [
      "{8, 9, 7}\n"
     ]
    }
   ],
   "source": [
    "print(set2.difference(set1))"
   ]
  },
  {
   "cell_type": "code",
   "execution_count": 5,
   "metadata": {},
   "outputs": [
    {
     "name": "stdout",
     "output_type": "stream",
     "text": [
      "{1, 2, 3, 7, 8, 9}\n"
     ]
    }
   ],
   "source": [
    "print(set1.symmetric_difference(set2))"
   ]
  },
  {
   "cell_type": "code",
   "execution_count": 18,
   "metadata": {},
   "outputs": [
    {
     "name": "stdout",
     "output_type": "stream",
     "text": [
      "<class 'set'>\n",
      "False\n",
      "True\n"
     ]
    }
   ],
   "source": [
    "set1 = {1,2,3,4}\n",
    "set2 = {4,5,6,7}\n",
    "set3 = {4,5,6,7,8}\n",
    "print(type(set1))\n",
    "print(set1.issubset(set2))\n",
    "print(set2.issubset(set3))"
   ]
  },
  {
   "cell_type": "code",
   "execution_count": 12,
   "metadata": {},
   "outputs": [
    {
     "name": "stdout",
     "output_type": "stream",
     "text": [
      "False\n",
      "False\n"
     ]
    }
   ],
   "source": [
    "print(set1.issuperset(set2))\n",
    "print(set2.issuperset(set3))"
   ]
  },
  {
   "cell_type": "code",
   "execution_count": 16,
   "metadata": {},
   "outputs": [
    {
     "name": "stdout",
     "output_type": "stream",
     "text": [
      "['in', 'this', 'tutorial', 'we', 'are', 'discusiing', 'about', 'words']\n",
      "{'about', 'in', 'tutorial', 'words', 'we', 'this', 'discusiing', 'are'}\n",
      "sorted words ['about', 'are', 'discusiing', 'in', 'this', 'tutorial', 'we', 'words']\n",
      "8\n"
     ]
    }
   ],
   "source": [
    "text = \"in this tutorial we are discusiing about words\"\n",
    "words  = text.split()\n",
    "print(words)\n",
    "\n",
    "#convert list of words to set to give unique words\n",
    "\n",
    "unique_words = set(words)\n",
    "print(unique_words)\n",
    "sort  = sorted(unique_words)\n",
    "print(\"sorted words\", sort)\n",
    "print(len(unique_words))"
   ]
  },
  {
   "cell_type": "code",
   "execution_count": 21,
   "metadata": {},
   "outputs": [
    {
     "name": "stdout",
     "output_type": "stream",
     "text": [
      "<class 'dict'>\n"
     ]
    }
   ],
   "source": [
    "my_dic = {}\n",
    "print(type(my_dic))"
   ]
  },
  {
   "cell_type": "code",
   "execution_count": null,
   "metadata": {},
   "outputs": [
    {
     "name": "stdout",
     "output_type": "stream",
     "text": [
      "{'name': 'krishna sharma', 'age': 21, 'grade': 7.92}\n",
      "<class 'dict'>\n"
     ]
    }
   ],
   "source": [
    "student = {\"name\": \"krishna sharma\",\"age\":21,\"grade\":7.92}\n",
    "print(student)\n",
    "my_data = \n",
    "print(type(student))"
   ]
  },
  {
   "cell_type": "code",
   "execution_count": 23,
   "metadata": {},
   "outputs": [
    {
     "name": "stdout",
     "output_type": "stream",
     "text": [
      "21\n",
      "krishna sharma\n"
     ]
    }
   ],
   "source": [
    "#accessing dictionaries\n",
    "print(student['age'])\n",
    "print(student['name'])"
   ]
  },
  {
   "cell_type": "code",
   "execution_count": 6,
   "metadata": {},
   "outputs": [
    {
     "name": "stdout",
     "output_type": "stream",
     "text": [
      "{'name': 'krishna sharma', 'age': 21, 'grade': 7.92}\n",
      "{'name': 'krishna sharma', 'age': 33, 'grade': 7.92}\n",
      "{'name': 'krishna sharma', 'age': 33, 'grade': 7.92, 'address': 'India'}\n",
      "{'name': 'krishna sharma', 'age': 33, 'address': 'India'}\n"
     ]
    }
   ],
   "source": [
    "#dictinaries can added data,update delete data\n",
    "student = {\"name\": \"krishna sharma\",\"age\":21,\"grade\":7.92}\n",
    "print(student)\n",
    "student[\"age\"] = 33\n",
    "print(student)\n",
    "student[\"address\"] = \"India\"\n",
    "print(student)\n",
    "del student['grade']\n",
    "print(student)"
   ]
  },
  {
   "cell_type": "code",
   "execution_count": 8,
   "metadata": {},
   "outputs": [
    {
     "name": "stdout",
     "output_type": "stream",
     "text": [
      "dict_keys(['name', 'age', 'address'])\n",
      "dict_values(['krishna sharma', 33, 'India'])\n",
      "dict_items([('name', 'krishna sharma'), ('age', 33), ('address', 'India')])\n"
     ]
    }
   ],
   "source": [
    "keys = student.keys() #get all the keys\n",
    "print(keys)\n",
    "values = student.values() #get all the values\n",
    "print(values)\n",
    "\n",
    "items = student.items() #get all the items\n",
    "print(items)"
   ]
  },
  {
   "cell_type": "code",
   "execution_count": 10,
   "metadata": {},
   "outputs": [
    {
     "name": "stdout",
     "output_type": "stream",
     "text": [
      "{'name': 'krishna sharma', 'age': 33, 'address': 'India'}\n",
      "{'name': 'krishna sharma', 'age': 33, 'address': 'India'}\n"
     ]
    }
   ],
   "source": [
    "student_copy = student \n",
    "print(student_copy)\n",
    "print(student)"
   ]
  },
  {
   "cell_type": "code",
   "execution_count": 11,
   "metadata": {},
   "outputs": [
    {
     "name": "stdout",
     "output_type": "stream",
     "text": [
      "{'name': 'krishna1', 'age': 33, 'address': 'India'}\n",
      "{'name': 'krishna1', 'age': 33, 'address': 'India'}\n"
     ]
    }
   ],
   "source": [
    "student[\"name\"] = \"krishna1\"\n",
    "print(student)\n",
    "print(student_copy)"
   ]
  },
  {
   "cell_type": "code",
   "execution_count": 12,
   "metadata": {},
   "outputs": [
    {
     "name": "stdout",
     "output_type": "stream",
     "text": [
      "{'name': 'krishna2', 'age': 33, 'address': 'India'}\n",
      "{'name': 'krishna1', 'age': 33, 'address': 'India'}\n"
     ]
    }
   ],
   "source": [
    "student_copy1 = student.copy()\n",
    "student[\"name\"] = \"krishna2\"\n",
    "print(student)\n",
    "print(student_copy1)"
   ]
  },
  {
   "cell_type": "code",
   "execution_count": 13,
   "metadata": {},
   "outputs": [
    {
     "name": "stdout",
     "output_type": "stream",
     "text": [
      "name\n",
      "age\n",
      "address\n"
     ]
    }
   ],
   "source": [
    "#iterating over dictioaries \n",
    "for keys in student.keys():\n",
    "    print(keys)"
   ]
  },
  {
   "cell_type": "code",
   "execution_count": 14,
   "metadata": {},
   "outputs": [
    {
     "name": "stdout",
     "output_type": "stream",
     "text": [
      "krishna2\n",
      "33\n",
      "India\n"
     ]
    }
   ],
   "source": [
    "for values in student.values():\n",
    "    print(values)"
   ]
  },
  {
   "cell_type": "code",
   "execution_count": 16,
   "metadata": {},
   "outputs": [
    {
     "name": "stdout",
     "output_type": "stream",
     "text": [
      "name : krishna2\n",
      "age : 33\n",
      "address : India\n"
     ]
    }
   ],
   "source": [
    "for keys,values in student.items():\n",
    "    print(f\"{keys:} : {values}\")"
   ]
  },
  {
   "cell_type": "code",
   "execution_count": 18,
   "metadata": {},
   "outputs": [
    {
     "name": "stdout",
     "output_type": "stream",
     "text": [
      "{'student1': {'name': 'krishna sharma', 'age': 21}, 'student2': {'name': 'Rishika Paul', 'age': 20}}\n"
     ]
    }
   ],
   "source": [
    "#nested dictionaries\n",
    "students = {\n",
    "    \"student1\" : {\"name\": \"krishna sharma\",\"age\":21,},\n",
    "    \"student2\" : {\"name\": \"Rishika Paul\", \"age\":20}\n",
    "}\n",
    "\n",
    "print(students)"
   ]
  },
  {
   "cell_type": "code",
   "execution_count": 19,
   "metadata": {},
   "outputs": [
    {
     "name": "stdout",
     "output_type": "stream",
     "text": [
      "Rishika Paul\n",
      "20\n"
     ]
    }
   ],
   "source": [
    "print(students [\"student2\"][\"name\"])\n",
    "print(students [\"student2\"][\"age\"])"
   ]
  },
  {
   "cell_type": "code",
   "execution_count": null,
   "metadata": {},
   "outputs": [
    {
     "name": "stdout",
     "output_type": "stream",
     "text": [
      "student1: {'name': 'krishna sharma', 'age': 21}\n",
      "name : krishna sharma\n",
      "age : 21\n",
      "student2: {'name': 'Rishika Paul', 'age': 20}\n",
      "name : Rishika Paul\n",
      "age : 20\n"
     ]
    }
   ],
   "source": [
    "#iterating over nested dictionaries\n",
    "for student_id, student_info in students.items():\n",
    "    print(f\"{student_id}: {student_info}\")\n",
    "    for key,value in student_info.items():\n",
    "        print(f\"{key} : {value}\")"
   ]
  },
  {
   "cell_type": "code",
   "execution_count": 23,
   "metadata": {},
   "outputs": [
    {
     "name": "stdout",
     "output_type": "stream",
     "text": [
      "{0: 0, 1: 1, 2: 4, 3: 9, 4: 16}\n"
     ]
    }
   ],
   "source": [
    "sq = {x : x**2 for x in range(5)}\n",
    "print(sq)"
   ]
  },
  {
   "cell_type": "code",
   "execution_count": 24,
   "metadata": {},
   "outputs": [
    {
     "name": "stdout",
     "output_type": "stream",
     "text": [
      "{0: 0, 2: 4, 4: 16, 6: 36, 8: 64}\n"
     ]
    }
   ],
   "source": [
    "evens = {x : x**2 for x in range (10) if x%2==0}\n",
    "print(evens)"
   ]
  },
  {
   "cell_type": "code",
   "execution_count": 26,
   "metadata": {},
   "outputs": [
    {
     "name": "stdout",
     "output_type": "stream",
     "text": [
      "{1: 4, 2: 3, 3: 4}\n"
     ]
    }
   ],
   "source": [
    "numbers = [1,1,1,1,2,2,2,3,3,3,3]\n",
    "freq = {}\n",
    "for number in numbers:\n",
    "    if number in freq:\n",
    "        freq[number] += 1\n",
    "    else :\n",
    "        freq[number]  = 1\n",
    "print(freq)"
   ]
  },
  {
   "cell_type": "code",
   "execution_count": 27,
   "metadata": {},
   "outputs": [
    {
     "name": "stdout",
     "output_type": "stream",
     "text": [
      "{'a': 1, 'b': 2, 'c': 3, 'd': 4}\n"
     ]
    }
   ],
   "source": [
    "dict1 = {\"a\":1, \"b\": 2}\n",
    "dict2 = {\"c\":3, \"d\":4}\n",
    "merged_dict={**dict1,**dict2}\n",
    "print(merged_dict)"
   ]
  },
  {
   "cell_type": "code",
   "execution_count": 31,
   "metadata": {},
   "outputs": [
    {
     "name": "stdout",
     "output_type": "stream",
     "text": [
      "{'brand': 'Ford', 'electric': False, 'year': 1964, 'colors': ['red', 'white', 'blue']}\n"
     ]
    }
   ],
   "source": [
    "thisdict = {\n",
    "  \"brand\": \"Ford\",\n",
    "  \"electric\": False,\n",
    "  \"year\": 1964,\n",
    "  \"colors\": [\"red\", \"white\", \"blue\"]\n",
    "}\n",
    "print(thisdict)"
   ]
  },
  {
   "cell_type": "code",
   "execution_count": 33,
   "metadata": {},
   "outputs": [
    {
     "name": "stdout",
     "output_type": "stream",
     "text": [
      "{'name': 'John', 'age': 36, 'country': 'Norway'}\n"
     ]
    }
   ],
   "source": [
    "#The dict() Constructor\n",
    "thisdict1 = dict(name = \"John\", age = 36, country = \"Norway\")\n",
    "print(thisdict1)"
   ]
  },
  {
   "cell_type": "code",
   "execution_count": 35,
   "metadata": {},
   "outputs": [
    {
     "name": "stdout",
     "output_type": "stream",
     "text": [
      "{'key1': 100, 'key2': 100, 'key3': 100}\n"
     ]
    }
   ],
   "source": [
    "#Dictionary fromkeys() Method\n",
    "x = ('key1', 'key2', 'key3')\n",
    "y = 100\n",
    "\n",
    "thisdict2 = dict.fromkeys(x, y)\n",
    "\n",
    "print(thisdict2)"
   ]
  },
  {
   "cell_type": "code",
   "execution_count": 3,
   "metadata": {},
   "outputs": [],
   "source": [
    "# syntax\n",
    "def function_name(parameters):\n",
    "    \"\"\"Docstring\"\"\"\n",
    "    # function body\n",
    "    return exprerssion\n"
   ]
  },
  {
   "cell_type": "code",
   "execution_count": 4,
   "metadata": {},
   "outputs": [
    {
     "name": "stdout",
     "output_type": "stream",
     "text": [
      "Help on function greet in module __main__:\n",
      "\n",
      "greet(name)\n",
      "    This function greets the person whose name is passed as an argument.\n",
      "\n",
      "Hello, Krishna!\n"
     ]
    }
   ],
   "source": [
    "def greet(name):\n",
    "    \"\"\"\n",
    "    This function greets the person whose name is passed as an argument.\n",
    "    \"\"\"\n",
    "    print(\"Hello, \" + name + \"!\")\n",
    "help(greet)  # Display the docstring of the function\n",
    "greet(\"Krishna\")  # Call the function with an argument"
   ]
  },
  {
   "cell_type": "code",
   "execution_count": 7,
   "metadata": {},
   "outputs": [
    {
     "name": "stdout",
     "output_type": "stream",
     "text": [
      "Hello, Guest\n",
      "Hello, Krishna\n"
     ]
    }
   ],
   "source": [
    "def greet(name = \"Guest\"):\n",
    "    print(f\"Hello, {name}\")\n",
    "\n",
    "greet()  # Call the function without an argument, it will use the default value\n",
    "greet(\"Krishna\")  # Call the function with an argument, it will override the default value"
   ]
  },
  {
   "cell_type": "code",
   "execution_count": 1,
   "metadata": {},
   "outputs": [
    {
     "name": "stdout",
     "output_type": "stream",
     "text": [
      "Tom      8\n",
      "Kris     2\n",
      "Ahmad    5\n",
      "Beau     6\n",
      "dtype: int64\n"
     ]
    }
   ],
   "source": [
    "import pandas as pd\n",
    "\n",
    "certificates_earned = pd.Series(\n",
    "    [8, 2, 5, 6],\n",
    "    index=['Tom', 'Kris', 'Ahmad', 'Beau']\n",
    ")\n",
    "\n",
    "print(certificates_earned)"
   ]
  },
  {
   "cell_type": "code",
   "execution_count": null,
   "metadata": {},
   "outputs": [
    {
     "name": "stdout",
     "output_type": "stream",
     "text": [
      "The sum of the numbers is: 6\n",
      "The sum of the numbers is: 100\n"
     ]
    }
   ],
   "source": [
    "#*args\n",
    "def add_numbers(*args):\n",
    "    total = sum(args)\n",
    "    print(f\"The sum of the numbers is: {total}\")\n",
    "\n",
    "add_numbers(1, 2, 3)  # Output: The sum of the numbers is: 6\n",
    "add_numbers(10, 20, 30, 40)  # Output: The sum of the numbers is: 100"
   ]
  },
  {
   "cell_type": "code",
   "execution_count": 4,
   "metadata": {},
   "outputs": [
    {
     "name": "stdout",
     "output_type": "stream",
     "text": [
      "name: John\n",
      "age: 30\n",
      "city: New York\n"
     ]
    }
   ],
   "source": [
    "# *kwargs\n",
    "def print_details(**kwargs):\n",
    "    for key,value in kwargs.items():\n",
    "        print(f\"{key}: {value}\")\n",
    "\n",
    "print_details(name=\"John\", age=30, city=\"New York\")  # Output: name: John, age: 30, city: New York\n",
    "# **kwargs"
   ]
  },
  {
   "cell_type": "code",
   "execution_count": 1,
   "metadata": {},
   "outputs": [
    {
     "name": "stdout",
     "output_type": "stream",
     "text": [
      "the value of positional argument is  1\n",
      "the value of positional argument is  2\n",
      "the value of positional argument is  3\n",
      "name: John\n",
      "age: 30\n",
      "city: New York\n"
     ]
    }
   ],
   "source": [
    "def print_details(*args,**kwargs):\n",
    "    for val in args:\n",
    "        print(f\"the value of positional argument is  {val}\")\n",
    "    for key,value in kwargs.items():\n",
    "        print(f\"{key}: {value}\")    \n",
    "\n",
    "print_details(1,2,3,name=\"John\", age=30, city=\"New York\")  # Output: name: John, age: 30, city: New York\n",
    "# **kwargs"
   ]
  },
  {
   "cell_type": "code",
   "execution_count": 2,
   "metadata": {},
   "outputs": [
    {
     "data": {
      "text/plain": [
       "6"
      ]
     },
     "execution_count": 2,
     "metadata": {},
     "output_type": "execute_result"
    }
   ],
   "source": [
    "# return statement\n",
    "def multiply(a,b):\n",
    "    return a*b\n",
    "\n",
    "multiply(2,3)"
   ]
  },
  {
   "cell_type": "code",
   "execution_count": null,
   "metadata": {},
   "outputs": [
    {
     "data": {
      "text/plain": [
       "function"
      ]
     },
     "execution_count": 2,
     "metadata": {},
     "output_type": "execute_result"
    }
   ],
   "source": [
    "# lambda function\n",
    "multiply = lambda a,b: a*b\n",
    "type(multiply)\n",
    "\n",
    "print(multiply(2,3)) # lambda function"
   ]
  },
  {
   "cell_type": "code",
   "execution_count": 3,
   "metadata": {},
   "outputs": [
    {
     "name": "stdout",
     "output_type": "stream",
     "text": [
      "False\n"
     ]
    }
   ],
   "source": [
    "even = lambda x: x%2==0\n",
    "print(even(7))"
   ]
  },
  {
   "cell_type": "code",
   "execution_count": 5,
   "metadata": {},
   "outputs": [
    {
     "name": "stdout",
     "output_type": "stream",
     "text": [
      "array('i', [1, 2, 3, 4, 5])\n"
     ]
    }
   ],
   "source": [
    "import array \n",
    "arr = array.array('i',[1,2,3,4,5])\n",
    "print(arr)"
   ]
  },
  {
   "cell_type": "code",
   "execution_count": 8,
   "metadata": {},
   "outputs": [
    {
     "name": "stdout",
     "output_type": "stream",
     "text": [
      "4.0\n",
      "8.0\n",
      "120\n",
      "3.141592653589793\n",
      "2.718281828459045\n",
      "-0.9880316240928618\n",
      "0.15425144988758405\n",
      "-6.405331196646276\n",
      "2.302585092994046\n",
      "2.0\n",
      "3.0\n",
      "1718.8733853924696\n",
      "0.5235987755982988\n",
      "3\n",
      "2\n",
      "2\n"
     ]
    }
   ],
   "source": [
    "import math\n",
    "print(math.sqrt(16)) # square root\n",
    "print(math.pow(2,3)) # power\n",
    "print(math.factorial(5)) # factorial\n",
    "print(math.pi) # pi value\n",
    "print(math.e) # euler number\n",
    "print(math.sin(30)) # sine value\n",
    "print(math.cos(30)) # cosine value\n",
    "print(math.tan(30)) # tangent value\n",
    "print(math.log(10)) # log value\n",
    "print(math.log10(100)) # log base 10 value\n",
    "print(math.log2(8)) # log base 2 value\n",
    "print(math.degrees(30)) # degrees value\n",
    "print(math.radians(30)) # radians value\n",
    "print(math.ceil(2.3)) # ceil value\n",
    "print(math.floor(2.3)) # floor value\n",
    "print(math.trunc(2.3)) # trunc value\n"
   ]
  },
  {
   "cell_type": "code",
   "execution_count": 11,
   "metadata": {},
   "outputs": [
    {
     "name": "stdout",
     "output_type": "stream",
     "text": [
      "8\n",
      "bhumika\n"
     ]
    }
   ],
   "source": [
    "import random\n",
    "print(random.randint(1,10)) # random integer between 1 and 10\n",
    "print(random.choice(['rishika','bhumika']))"
   ]
  },
  {
   "cell_type": "code",
   "execution_count": 13,
   "metadata": {},
   "outputs": [
    {
     "name": "stdout",
     "output_type": "stream",
     "text": [
      "c:\\data analytics\n"
     ]
    }
   ],
   "source": [
    "import os \n",
    "print(os.getcwd()) # current working directory"
   ]
  },
  {
   "cell_type": "code",
   "execution_count": 19,
   "metadata": {},
   "outputs": [
    {
     "ename": "FileExistsError",
     "evalue": "[WinError 183] Cannot create a file when that file already exists: 'test_dir'",
     "output_type": "error",
     "traceback": [
      "\u001b[1;31m---------------------------------------------------------------------------\u001b[0m",
      "\u001b[1;31mFileExistsError\u001b[0m                           Traceback (most recent call last)",
      "Cell \u001b[1;32mIn[19], line 1\u001b[0m\n\u001b[1;32m----> 1\u001b[0m \u001b[43mos\u001b[49m\u001b[38;5;241;43m.\u001b[39;49m\u001b[43mmkdir\u001b[49m\u001b[43m(\u001b[49m\u001b[38;5;124;43m\"\u001b[39;49m\u001b[38;5;124;43mtest_dir\u001b[39;49m\u001b[38;5;124;43m\"\u001b[39;49m\u001b[43m)\u001b[49m\n",
      "\u001b[1;31mFileExistsError\u001b[0m: [WinError 183] Cannot create a file when that file already exists: 'test_dir'"
     ]
    }
   ],
   "source": [
    "os.mkdir(\"test_dir\")"
   ]
  },
  {
   "cell_type": "code",
   "execution_count": 17,
   "metadata": {},
   "outputs": [
    {
     "data": {
      "text/plain": [
       "'destination.txt'"
      ]
     },
     "execution_count": 17,
     "metadata": {},
     "output_type": "execute_result"
    }
   ],
   "source": [
    "import shutil\n",
    "shutil.copyfile('source.txt', 'destination.txt')"
   ]
  },
  {
   "cell_type": "code",
   "execution_count": 18,
   "metadata": {},
   "outputs": [
    {
     "name": "stdout",
     "output_type": "stream",
     "text": [
      "{\"name\": \"krishna\", \"age\": 21, \"grade\": 7.92}\n",
      "<class 'str'>\n",
      "{'name': 'krishna', 'age': 21, 'grade': 7.92}\n",
      "<class 'dict'>\n"
     ]
    }
   ],
   "source": [
    "import json\n",
    "data={\"name\": \"krishna\", \"age\": 21, \"grade\": 7.92}\\\n",
    "\n",
    "json_str = json.dumps(data)\n",
    "print(json_str)\n",
    "print(type(json_str))\n",
    "parsed_data = json.loads(json_str)\n",
    "print(parsed_data)\n",
    "print(type(parsed_data))"
   ]
  },
  {
   "cell_type": "code",
   "execution_count": 22,
   "metadata": {},
   "outputs": [
    {
     "name": "stdout",
     "output_type": "stream",
     "text": [
      "['Name', 'Age', 'Grade']\n",
      "['krishna', '21', '7.92']\n",
      "['rishika', '20', '8.0']\n",
      "['bhumika', '19', '8.5']\n",
      "['ayush', '22', '7.5']\n"
     ]
    }
   ],
   "source": [
    "import csv \n",
    "\n",
    "# Writing to CSV\n",
    "with open('example.csv', mode='w', newline='') as file:\n",
    "    writer = csv.writer(file)\n",
    "    writer.writerow(['Name', 'Age', 'Grade'])   \n",
    "    writer.writerow(['krishna', 21, 7.92])\n",
    "    writer.writerow(['rishika', 20, 8.0])\n",
    "    writer.writerow(['bhumika', 19, 8.5])\n",
    "    writer.writerow(['ayush', 22, 7.5])\n",
    "\n",
    "# Reading from CSV\n",
    "with open('example.csv', mode='r') as file:\n",
    "    reader = csv.reader(file)\n",
    "    for row in reader:\n",
    "        print(row)\n"
   ]
  },
  {
   "cell_type": "code",
   "execution_count": 26,
   "metadata": {},
   "outputs": [
    {
     "name": "stdout",
     "output_type": "stream",
     "text": [
      "Current date and time: 2025-04-29 02:51:34.116674\n",
      "Current date: 2025-04-29\n",
      "Current time: 02:51:34.116674\n",
      "Yesterday's date: 2025-04-27\n",
      "Yesterday's time: 02:51:34.116674\n"
     ]
    }
   ],
   "source": [
    "from datetime import datetime, timedelta\n",
    "\n",
    "now = datetime.now()\n",
    "print(\"Current date and time:\", now)\n",
    "print(\"Current date:\", now.date())\n",
    "\n",
    "print(\"Current time:\", now.time())\n",
    "\n",
    "yesterday = now - timedelta(days=2)\n",
    "print(\"Yesterday's date:\", yesterday.date())\n",
    "print(\"Yesterday's time:\", yesterday.time())"
   ]
  },
  {
   "cell_type": "code",
   "execution_count": 29,
   "metadata": {},
   "outputs": [
    {
     "name": "stdout",
     "output_type": "stream",
     "text": [
      "1745875639.8870878\n",
      "1745875644.8883743\n"
     ]
    }
   ],
   "source": [
    "import time \n",
    "print(time.time()) # current time in seconds since epoch\n",
    "time.sleep(5) # sleep for 5 seconds\n",
    "print(time.time()) # current time in seconds since epoch"
   ]
  },
  {
   "cell_type": "code",
   "execution_count": 31,
   "metadata": {},
   "outputs": [
    {
     "name": "stdout",
     "output_type": "stream",
     "text": [
      "hello \n",
      "krishn this side \n",
      "\n"
     ]
    }
   ],
   "source": [
    "#file operation \n",
    "# read a whole file\n",
    "with open('example.txt', 'r') as file:\n",
    "    content = file.read()\n",
    "    print(content)"
   ]
  },
  {
   "cell_type": "code",
   "execution_count": 34,
   "metadata": {},
   "outputs": [
    {
     "name": "stdout",
     "output_type": "stream",
     "text": [
      "hello \n",
      "\n",
      "hello\n",
      "krishn this side \n",
      "\n",
      "krishn this side\n"
     ]
    }
   ],
   "source": [
    "# read a file line by line \n",
    "with open('example.txt', 'r') as file:\n",
    "    for line in file:\n",
    "        print(line)\n",
    "        print(line.strip()) # remove newline character"
   ]
  },
  {
   "cell_type": "code",
   "execution_count": 35,
   "metadata": {},
   "outputs": [],
   "source": [
    "# writing file(overwriting)\n",
    "\n",
    "with open('eaxmple.txt', 'w') as file:\n",
    "    file.write(\"hello wrold\\n\")\n",
    "    file.write(\"this is a new line\")"
   ]
  },
  {
   "cell_type": "code",
   "execution_count": 41,
   "metadata": {},
   "outputs": [],
   "source": [
    "# writing file(without overwriting)\n",
    "with open('example.txt', 'a') as file:\n",
    "    file.write(\"\\nwriting a file without overwiting\")\n",
    "    file.write(\"a shows it's appending the file\\n\")"
   ]
  },
  {
   "cell_type": "code",
   "execution_count": 40,
   "metadata": {},
   "outputs": [],
   "source": [
    "lines = ['first line\\n', 'second line\\n', 'third line\\n']\n",
    "\n",
    "with open('example.txt', 'a') as file:\n",
    "    file.writelines(lines)"
   ]
  },
  {
   "cell_type": "code",
   "execution_count": 3,
   "metadata": {},
   "outputs": [],
   "source": [
    "data = b'\\x00\\x01\\x02\\x03\\x04\\x05'\n",
    "with open('example.bin', mode='wb') as file:\n",
    "    file.write(data)\n"
   ]
  },
  {
   "cell_type": "code",
   "execution_count": 7,
   "metadata": {},
   "outputs": [
    {
     "name": "stdout",
     "output_type": "stream",
     "text": [
      "b'\\x00\\x01\\x02\\x03\\x04\\x05'\n"
     ]
    }
   ],
   "source": [
    "# Reading binary file\n",
    "with open('example.bin', mode='rb') as file:\n",
    "    content = file.read()\n",
    "    print(content)"
   ]
  },
  {
   "cell_type": "code",
   "execution_count": 10,
   "metadata": {},
   "outputs": [],
   "source": [
    "#read the content from source text file and write to a destination file\n",
    "with open('example.txt', 'r') as source_file:\n",
    "    content = source_file.read()\n",
    "\n",
    "with open('destination.txt', 'w') as destination_file:\n",
    "    destination_file.write(content)"
   ]
  },
  {
   "cell_type": "code",
   "execution_count": 14,
   "metadata": {},
   "outputs": [
    {
     "name": "stdout",
     "output_type": "stream",
     "text": [
      "Lines : 9, Words:39,Characters:259\n"
     ]
    }
   ],
   "source": [
    "#Reading a text file and count the no. of lines, words,char\n",
    "#Counting lines, words and char in a text file\n",
    "\n",
    "def count_text_file(file_path):\n",
    "    with open(file_path, 'r') as file:\n",
    "        lines = file.readlines()\n",
    "        lines_count = len(lines)\n",
    "        words_count = sum(len(line.split()) for line in lines)\n",
    "        char_count = sum(len(line) for line in lines)\n",
    "    return lines_count,words_count,char_count\n",
    "\n",
    "file_path = 'example.txt'\n",
    "lines,words,characters = count_text_file(file_path)\n",
    "print(f\"Lines : {lines}, Words:{words},Characters:{characters}\")"
   ]
  },
  {
   "cell_type": "code",
   "execution_count": 16,
   "metadata": {},
   "outputs": [
    {
     "name": "stdout",
     "output_type": "stream",
     "text": [
      "hello\n",
      "new line\n",
      "\n"
     ]
    }
   ],
   "source": [
    "# writing and reading a file \n",
    "with open('example.txt', 'w+') as file:\n",
    "    file.write(\"hello\\n\")\n",
    "    file.write(\"new line\\n\")\n",
    "\n",
    "    # move the cursor to the beginning of the file\n",
    "    file.seek(0)\n",
    "\n",
    "    #rwead the file content\n",
    "    content = file.read()\n",
    "    print(content)"
   ]
  },
  {
   "cell_type": "code",
   "execution_count": 2,
   "metadata": {},
   "outputs": [
    {
     "ename": "FileExistsError",
     "evalue": "[WinError 183] Cannot create a file when that file already exists: 'package'",
     "output_type": "error",
     "traceback": [
      "\u001b[1;31m---------------------------------------------------------------------------\u001b[0m",
      "\u001b[1;31mFileExistsError\u001b[0m                           Traceback (most recent call last)",
      "Cell \u001b[1;32mIn[2], line 4\u001b[0m\n\u001b[0;32m      2\u001b[0m \u001b[38;5;66;03m#create a new directory\u001b[39;00m\n\u001b[0;32m      3\u001b[0m new_directory \u001b[38;5;241m=\u001b[39m \u001b[38;5;124m\"\u001b[39m\u001b[38;5;124mpackage\u001b[39m\u001b[38;5;124m\"\u001b[39m\n\u001b[1;32m----> 4\u001b[0m \u001b[43mos\u001b[49m\u001b[38;5;241;43m.\u001b[39;49m\u001b[43mmkdir\u001b[49m\u001b[43m(\u001b[49m\u001b[43mnew_directory\u001b[49m\u001b[43m)\u001b[49m\n\u001b[0;32m      5\u001b[0m \u001b[38;5;28mprint\u001b[39m(\u001b[38;5;124mf\u001b[39m\u001b[38;5;124m\"\u001b[39m\u001b[38;5;124mDirectory \u001b[39m\u001b[38;5;124m'\u001b[39m\u001b[38;5;132;01m{\u001b[39;00mnew_directory\u001b[38;5;132;01m}\u001b[39;00m\u001b[38;5;124m'\u001b[39m\u001b[38;5;124m created\u001b[39m\u001b[38;5;124m\"\u001b[39m)\n",
      "\u001b[1;31mFileExistsError\u001b[0m: [WinError 183] Cannot create a file when that file already exists: 'package'"
     ]
    }
   ],
   "source": [
    "import os\n",
    "#create a new directory\n",
    "new_directory = \"package\"\n",
    "os.mkdir(new_directory)\n",
    "print(f\"Directory '{new_directory}' created\")"
   ]
  },
  {
   "cell_type": "code",
   "execution_count": 4,
   "metadata": {},
   "outputs": [
    {
     "name": "stdout",
     "output_type": "stream",
     "text": [
      "['.git', '.vscode', 'concepts_main.ipynb', 'demo.json', 'destination.txt', 'Diwali-sales-', 'example.bin', 'example.csv', 'example.txt', 'heart.py', 'heart_disease_cleaned.csv', 'heart_disease_uci.csv', 'KIdneyDisease.py', 'kidney_disease.csv', 'kidney_disease_cleaned.csv', 'main.cpp', 'main.py', 'package', 'source.txt', 'test_dir']\n"
     ]
    }
   ],
   "source": [
    "items = os.listdir('.')\n",
    "print(items)"
   ]
  },
  {
   "cell_type": "code",
   "execution_count": 6,
   "metadata": {},
   "outputs": [
    {
     "name": "stdout",
     "output_type": "stream",
     "text": [
      "folder\\file.txt\n"
     ]
    }
   ],
   "source": [
    "dir_name = \"folder\"\n",
    "file_path = \"file.txt\"\n",
    "full_path = os.path.join(dir_name,file_path)\n",
    "print(full_path)\n",
    "# check if the directory exists"
   ]
  },
  {
   "cell_type": "code",
   "execution_count": 7,
   "metadata": {},
   "outputs": [
    {
     "name": "stdout",
     "output_type": "stream",
     "text": [
      "c:\\data analytics\\folder\\file.txt\n"
     ]
    }
   ],
   "source": [
    "dir_name = \"folder\"\n",
    "file_path = \"file.txt\"\n",
    "full_path = os.path.join(os.getcwd(), dir_name,file_path)\n",
    "print(full_path)"
   ]
  },
  {
   "cell_type": "code",
   "execution_count": 9,
   "metadata": {},
   "outputs": [
    {
     "name": "stdout",
     "output_type": "stream",
     "text": [
      "example.txt exists\n"
     ]
    }
   ],
   "source": [
    "path = 'example.txt'\n",
    "if os.path.exists(path):\n",
    "    print(f\"{path} exists\")\n",
    "else :\n",
    "    print(f\"the path '{path}' does not exist\")"
   ]
  },
  {
   "cell_type": "code",
   "execution_count": 12,
   "metadata": {},
   "outputs": [
    {
     "name": "stdout",
     "output_type": "stream",
     "text": [
      "the path 'example.txt' is a file\n"
     ]
    }
   ],
   "source": [
    "import os \n",
    "path = 'example.txt'\n",
    "if os.path.isfile(path):\n",
    "    print(f\"the path '{path}' is a file\")\n",
    "elif os.path.isdir(path) :\n",
    "    print(f\"the path '{path}' is a directory\")\n",
    "else :\n",
    "    print(f\"the path '{path}' is neither file or a dirctory\")\n",
    "    "
   ]
  },
  {
   "cell_type": "code",
   "execution_count": 13,
   "metadata": {},
   "outputs": [
    {
     "name": "stdout",
     "output_type": "stream",
     "text": [
      "c:\\data analytics\\example.txt\n"
     ]
    }
   ],
   "source": [
    "relative_path = 'example.txt'\n",
    "absolute_path = os.path.abspath(relative_path)\n",
    "print(absolute_path)"
   ]
  },
  {
   "cell_type": "code",
   "execution_count": null,
   "metadata": {},
   "outputs": [],
   "source": []
  }
 ],
 "metadata": {
  "kernelspec": {
   "display_name": "Python 3",
   "language": "python",
   "name": "python3"
  },
  "language_info": {
   "codemirror_mode": {
    "name": "ipython",
    "version": 3
   },
   "file_extension": ".py",
   "mimetype": "text/x-python",
   "name": "python",
   "nbconvert_exporter": "python",
   "pygments_lexer": "ipython3",
   "version": "3.13.3"
  }
 },
 "nbformat": 4,
 "nbformat_minor": 2
}
