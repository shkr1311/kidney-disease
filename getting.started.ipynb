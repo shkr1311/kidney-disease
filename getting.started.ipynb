{
 "cells": [
  {
   "cell_type": "code",
   "execution_count": 71,
   "metadata": {},
   "outputs": [
    {
     "name": "stdout",
     "output_type": "stream",
     "text": [
      " hello world\n",
      "this is a multiline string\n",
      "and it is a comment\n"
     ]
    }
   ],
   "source": [
    "print(\"\"\" hello world\n",
    "this is a multiline string\n",
    "and it is a comment\"\"\")"
   ]
  },
  {
   "cell_type": "code",
   "execution_count": 72,
   "metadata": {},
   "outputs": [
    {
     "name": "stdout",
     "output_type": "stream",
     "text": [
      "hello\n"
     ]
    }
   ],
   "source": [
    "a = \"hello\"\n",
    "print(a)"
   ]
  },
  {
   "cell_type": "code",
   "execution_count": 73,
   "metadata": {},
   "outputs": [
    {
     "name": "stdout",
     "output_type": "stream",
     "text": [
      "hello \n"
     ]
    }
   ],
   "source": [
    "name =input(\"what is your name?\")\n",
    "print(\"hello\", name)"
   ]
  },
  {
   "cell_type": "code",
   "execution_count": 74,
   "metadata": {},
   "outputs": [
    {
     "ename": "ValueError",
     "evalue": "invalid literal for int() with base 10: ''",
     "output_type": "error",
     "traceback": [
      "\u001b[1;31m---------------------------------------------------------------------------\u001b[0m",
      "\u001b[1;31mValueError\u001b[0m                                Traceback (most recent call last)",
      "Cell \u001b[1;32mIn[74], line 1\u001b[0m\n\u001b[1;32m----> 1\u001b[0m age\u001b[38;5;241m=\u001b[39m \u001b[38;5;28;43mint\u001b[39;49m\u001b[43m(\u001b[49m\u001b[38;5;28;43minput\u001b[39;49m\u001b[43m(\u001b[49m\u001b[38;5;124;43m\"\u001b[39;49m\u001b[38;5;124;43mhow old are you?\u001b[39;49m\u001b[38;5;124;43m\"\u001b[39;49m\u001b[43m)\u001b[49m\u001b[43m)\u001b[49m\n\u001b[0;32m      2\u001b[0m \u001b[38;5;28mprint\u001b[39m(\u001b[38;5;124m\"\u001b[39m\u001b[38;5;124myou are\u001b[39m\u001b[38;5;124m\"\u001b[39m, age, \u001b[38;5;124m\"\u001b[39m\u001b[38;5;124myears old\u001b[39m\u001b[38;5;124m\"\u001b[39m)\n",
      "\u001b[1;31mValueError\u001b[0m: invalid literal for int() with base 10: ''"
     ]
    }
   ],
   "source": [
    "age= int(input(\"how old are you?\"))\n",
    "print(\"you are\", age, \"years old\")"
   ]
  },
  {
   "cell_type": "code",
   "execution_count": null,
   "metadata": {},
   "outputs": [],
   "source": [
    "exp1= eval(input(\"enter any xpression\"))\n",
    "print(exp1)"
   ]
  },
  {
   "cell_type": "code",
   "execution_count": null,
   "metadata": {},
   "outputs": [],
   "source": [
    "name= input(\"what is your name?\\n\")\n",
    "age= int(input(\"how old are you?\\n\"))\n",
    "address= input(\"what is your address?\\n\")\n",
    "print(\"\"\" name: {} , age: {} , address: {}\"\"\".format(name, age, address))"
   ]
  },
  {
   "cell_type": "code",
   "execution_count": null,
   "metadata": {},
   "outputs": [],
   "source": [
    "x= 12 \n",
    "y = 13\n",
    "temp = x\n",
    "x = y\n",
    "y = temp\n",
    "print(\"x=\", x, \"y=\", y)"
   ]
  },
  {
   "cell_type": "code",
   "execution_count": null,
   "metadata": {},
   "outputs": [],
   "source": [
    "x= 20\n",
    "y= 30\n",
    "print(\"x=\", x, \"y=\", y)\n",
    "x,y=y,x\n",
    "print(\"x=\", x, \"y=\", y)"
   ]
  },
  {
   "cell_type": "code",
   "execution_count": null,
   "metadata": {},
   "outputs": [],
   "source": [
    "y = 3.24\n",
    "print(type(y))\n",
    "y = int(y)\n",
    "print(type(y))\n",
    "print(y)"
   ]
  },
  {
   "cell_type": "code",
   "execution_count": null,
   "metadata": {},
   "outputs": [],
   "source": [
    "nam = input(\"what is your name?\\n\")\n",
    "mobile_number = int(input(\"what is your mobile number?\\n\"))\n",
    "address = input(\"what is your address?\\n\")\n",
    "grade = input(\"what is your grade?\\n\")\n",
    "email = input(\"what is your email\\n\")\n",
    "print(\"name: \", nam, \"mobile number: \", mobile_number, \"address: \", address, \"grade: \", grade, \"email: \", email)"
   ]
  },
  {
   "cell_type": "code",
   "execution_count": null,
   "metadata": {},
   "outputs": [],
   "source": [
    "a = 12\n",
    "print(type(a))\n",
    "print(a)\n",
    "a = float(a)\n",
    "print(type(a))  \n",
    "print(a)    "
   ]
  },
  {
   "cell_type": "code",
   "execution_count": null,
   "metadata": {},
   "outputs": [],
   "source": [
    "a= 7\n",
    "b= 2\n",
    "c=a//b\n",
    "d=a%b\n",
    "b = 2**123\n",
    "print(c)\n",
    "print(d)  \n",
    "print(b)  "
   ]
  },
  {
   "cell_type": "code",
   "execution_count": null,
   "metadata": {},
   "outputs": [],
   "source": [
    "print(3>2)\n",
    "print(3<2)"
   ]
  },
  {
   "cell_type": "code",
   "execution_count": null,
   "metadata": {},
   "outputs": [],
   "source": [
    "marks = 50\n",
    "print(\"you can go on trip\") if marks<=50 else print(\"you cannot go on trip\")"
   ]
  },
  {
   "cell_type": "code",
   "execution_count": null,
   "metadata": {},
   "outputs": [],
   "source": [
    "a= int(input(\"enter a number\"))\n",
    "if a % 2 == 0:\n",
    "    print(\"even\")\n",
    "else:\n",
    "    print(\"odd\")\n"
   ]
  },
  {
   "cell_type": "code",
   "execution_count": null,
   "metadata": {},
   "outputs": [],
   "source": [
    "num = int(input(\"enter a number\"))\n",
    "if num >= 0:\n",
    "    print(\"positive\")\n",
    "else:\n",
    "    print(\"negative\")   "
   ]
  },
  {
   "cell_type": "code",
   "execution_count": null,
   "metadata": {},
   "outputs": [],
   "source": [
    "print(\"******AREA CALCULATOR******\")\n",
    "print(\"\"\"1. area of circle\n",
    "2. area of rectangle\n",
    "3. area of square\n",
    "4. area of triangle\"\"\")\n",
    "choice = int(input(\"enter your choice: \"))\n",
    "\n",
    "if choice == 1:\n",
    "    radius = float(input(\"enter the radius of circle: \"))\n",
    "    area = 3.14 * radius * radius\n",
    "    print(\"area of circle is\", area)\n",
    "elif choice == 2:\n",
    "    length = float(input(\"enter the length of rectangle: \"))\n",
    "    breadth = float(input(\"enter the breadth of rectangle: \"))\n",
    "    area = length * breadth\n",
    "    print(\"area of rectangle is\", area)\n",
    "elif choice == 3:\n",
    "    side = float(input(\"enter the side of square: \"))\n",
    "    area = side * side\n",
    "    print(\"area of square is\", area)\n",
    "elif choice == 4:\n",
    "    base = float(input(\"enter the base of triangle: \"))\n",
    "    height = float(input(\"enter the height of triangle: \"))\n",
    "    area = 0.5 * base * height\n",
    "    print(\"area of triangle is\", area)\n",
    "else:\n",
    "    print(\"invalid choice\")\n"
   ]
  },
  {
   "cell_type": "code",
   "execution_count": null,
   "metadata": {},
   "outputs": [],
   "source": [
    "letter = input(\"enter a letter: \")\n",
    "if letter in \"aeiou\":\n",
    "    print(\"vowel\")\n",
    "else:\n",
    "\n",
    "    print(\"consonant\")\n",
    "    "
   ]
  },
  {
   "cell_type": "code",
   "execution_count": null,
   "metadata": {},
   "outputs": [],
   "source": [
    "num = int(input(\"enter a number upto 5 digit: \"))\n",
    "\n",
    "if num <= 0 and num >= 9:\n",
    "    print(\"single digit\") \n",
    "elif num >= 10 and num <= 99:\n",
    "    print(\"two digit\")\n",
    "elif num >= 100 and num <= 999:\n",
    "    print(\"three digit\")\n",
    "elif num >= 1000 and num <= 9999:\n",
    "    print(\"four digit\")\n",
    "elif num >= 10000 and num <= 99999:\n",
    "    print(\"five digit\")\n",
    "else:\n",
    "    print(\"greater number  than 5 digit\")"
   ]
  },
  {
   "cell_type": "code",
   "execution_count": null,
   "metadata": {},
   "outputs": [],
   "source": [
    "n = int(input(\"enter a number: \"))\n",
    "for i in range(1, 11):\n",
    "    print(n, \"x\", i, \"=\", n*i)"
   ]
  },
  {
   "cell_type": "code",
   "execution_count": null,
   "metadata": {},
   "outputs": [],
   "source": [
    "n = 0\n",
    "while (n < 10):\n",
    "    print(n)\n",
    "    n += 1"
   ]
  },
  {
   "cell_type": "code",
   "execution_count": null,
   "metadata": {},
   "outputs": [],
   "source": [
    "num = int(input(\"enter a number: \"))    \n",
    "while num!=5 :\n",
    "    print(num,num * num)\n",
    "    num = int(input(\"enter a number: \"))\n",
    "    "
   ]
  },
  {
   "cell_type": "code",
   "execution_count": null,
   "metadata": {},
   "outputs": [],
   "source": [
    "count = 0\n",
    "while count < 5:\n",
    "    print(count,count*count,count*count*count)\n",
    "    count += 1"
   ]
  },
  {
   "cell_type": "code",
   "execution_count": null,
   "metadata": {},
   "outputs": [],
   "source": [
    "s = \"Mumbai\"\n",
    "lst = ['desert', 'dessert','to','too','lose','loose']\n",
    "tpl = (10,20,30,-20,-10)\n",
    "i = 0\n",
    "while i < len(lst):\n",
    "    print(i,s[i],lst[i],tpl[i])\n",
    "    i += 1"
   ]
  },
  {
   "cell_type": "code",
   "execution_count": null,
   "metadata": {},
   "outputs": [],
   "source": [
    "n = 1\n",
    "a = int(input(\"enter a number: \"))\n",
    "while n <= 10:\n",
    "    print(a, \"x\", n, \"=\", a*n)\n",
    "    n += 2"
   ]
  },
  {
   "cell_type": "code",
   "execution_count": null,
   "metadata": {},
   "outputs": [],
   "source": [
    "while True :\n",
    "    num1 = int(input(\"enter a number :\"))\n",
    "    num2 = int(input(\"enter a number :\"))\n",
    "\n",
    "    print(num1 + num2)  \n",
    "    choice = input(\"do you want to continue? y/n\")\n",
    "    if choice == \"n\":\n",
    "        break"
   ]
  },
  {
   "cell_type": "code",
   "execution_count": null,
   "metadata": {},
   "outputs": [],
   "source": [
    "for i in range(1 , 4) :\n",
    "    for j in range(1 , 11):\n",
    "        print(j, end= \" \")\n",
    "    print()"
   ]
  },
  {
   "cell_type": "code",
   "execution_count": null,
   "metadata": {},
   "outputs": [],
   "source": [
    "for i in range(1,6):\n",
    "    for j in range(1,i+1):\n",
    "        print('*',end=\" \")\n",
    "    print()"
   ]
  },
  {
   "cell_type": "code",
   "execution_count": null,
   "metadata": {},
   "outputs": [],
   "source": [
    "for i in range(1,11):\n",
    "    if i == 5:\n",
    "        break\n",
    "    else :\n",
    "        print(i,end=\" \")\n",
    "print(\"thank you\")"
   ]
  },
  {
   "cell_type": "code",
   "execution_count": null,
   "metadata": {},
   "outputs": [],
   "source": [
    "sum = 0\n",
    "for i in range(1,51):\n",
    "    if i % 2 == 0:\n",
    "        sum += i\n",
    "\n",
    "print(sum)\n"
   ]
  },
  {
   "cell_type": "code",
   "execution_count": null,
   "metadata": {},
   "outputs": [],
   "source": [
    "for i in range(1,21):\n",
    "    print(i,i*i)"
   ]
  },
  {
   "cell_type": "code",
   "execution_count": null,
   "metadata": {},
   "outputs": [],
   "source": [
    "n = 0\n",
    "sum =0\n",
    "while n <=20 :\n",
    "    if n % 2 != 0:\n",
    "        sum = sum + n\n",
    "   \n",
    "    n = n+1\n",
    "print(sum)\n"
   ]
  },
  {
   "cell_type": "code",
   "execution_count": null,
   "metadata": {},
   "outputs": [],
   "source": [
    "for i in range(8,101):\n",
    "    if i % n == 0 and i % 12 == 0:\n",
    "        print(i)\n",
    "        "
   ]
  },
  {
   "cell_type": "code",
   "execution_count": null,
   "metadata": {},
   "outputs": [],
   "source": [
    "while True:\n",
    "    name = input(\"enter your name\") \n",
    "    age = int(input(\"enter your age\"))\n",
    "    address = input(\"enter your address\")   \n",
    "    phone_number = int(input(\"enter your phone number\"))\n",
    "    total = 0\n",
    "    while True:\n",
    "        product = input(\"enter the product\")\n",
    "        \n",
    "        price = int(input(\"enter the price\"))\n",
    "       \n",
    "        quantity = int(input(\"enter the quantity\"))\n",
    "        \n",
    "        total = total + price * quantity\n",
    "        choice = input(\"do you want to continue? y/n\")\n",
    "        if choice == \"n\":\n",
    "            break\n",
    "    print(\"name: \", name)\n",
    "    print(\"age: \", age)\n",
    "    print(\"address: \", address)\n",
    "    print(\"phone number: \", phone_number)\n",
    "    print(\"total: \", total)\n",
    "    choice = input(\"do you want to continue? y/n\")\n",
    "    if choice == \"n\":\n",
    "        break\n",
    "\n",
    "\n"
   ]
  },
  {
   "cell_type": "code",
   "execution_count": null,
   "metadata": {},
   "outputs": [],
   "source": [
    "a = \"Why fit in, When you were born to stand out\"\n",
    "print(a.count(\"o\"))\n",
    "print(len(a))\n",
    "\n",
    "x= a.lower()\n",
    "t= a.upper()\n",
    "y = a.capitalize()\n",
    "z =a.title()\n",
    "s = a.find(\"fit in\")\n",
    "print(x)\n",
    "print(y)\n",
    "print(z)\n",
    "print(t)\n",
    "print(s)    "
   ]
  },
  {
   "cell_type": "code",
   "execution_count": 79,
   "metadata": {},
   "outputs": [
    {
     "name": "stdout",
     "output_type": "stream",
     "text": [
      "* \n",
      "* * \n",
      "* * * \n",
      "* * * * \n",
      "* * * * * \n"
     ]
    }
   ],
   "source": [
    "for i in range(1,6): #for rows\n",
    "    for j in range(1,i+1): #for columns\n",
    "        print(\"*\",end=\" \")\n",
    "    print()"
   ]
  },
  {
   "cell_type": "code",
   "execution_count": 1,
   "metadata": {},
   "outputs": [
    {
     "name": "stdout",
     "output_type": "stream",
     "text": [
      "1 \n",
      "2 2 \n",
      "3 3 3 \n",
      "4 4 4 4 \n",
      "5 5 5 5 5 \n"
     ]
    }
   ],
   "source": [
    "for i in range(1,6): #for rows\n",
    "    for j in range(1,i+1): #for columns\n",
    "        print(i,end=\" \")\n",
    "    print()"
   ]
  },
  {
   "cell_type": "code",
   "execution_count": 2,
   "metadata": {},
   "outputs": [
    {
     "name": "stdout",
     "output_type": "stream",
     "text": [
      "1 1 1 1 1 \n",
      "2 2 2 2 \n",
      "3 3 3 \n",
      "4 4 \n",
      "5 \n"
     ]
    }
   ],
   "source": [
    "for i in range(1,6): #for rows\n",
    "    for j in range(6,i,-1): #for columns\n",
    "        print(i,end=\" \")\n",
    "    print()"
   ]
  },
  {
   "cell_type": "code",
   "execution_count": 3,
   "metadata": {},
   "outputs": [
    {
     "name": "stdout",
     "output_type": "stream",
     "text": [
      "        * \n",
      "      * * \n",
      "    * * * \n",
      "  * * * * \n",
      "* * * * * \n"
     ]
    }
   ],
   "source": [
    "for i in range(1,6): #for rows \n",
    "    for j in range(5,i,-1):\n",
    "         print(\" \",end=\" \") \n",
    "    for k in range(i): \n",
    "        print(\"*\",end=\" \") \n",
    "    print()"
   ]
  },
  {
   "cell_type": "code",
   "execution_count": 77,
   "metadata": {},
   "outputs": [
    {
     "name": "stdout",
     "output_type": "stream",
     "text": [
      "1 \n",
      "2 1 \n",
      "3 2 1 \n",
      "4 3 2 1 \n",
      "5 4 3 2 1 \n"
     ]
    }
   ],
   "source": [
    "for i in range(1,6):\n",
    "    for j in range(i,0,-1):\n",
    "        print(j,end=\" \")\n",
    "    print()"
   ]
  },
  {
   "cell_type": "code",
   "execution_count": 83,
   "metadata": {},
   "outputs": [
    {
     "name": "stdout",
     "output_type": "stream",
     "text": [
      "* \n",
      "* * \n",
      "* * * \n",
      "* * * * \n",
      "* * * * * \n",
      "* * * * \n",
      "* * * \n",
      "* * \n",
      "* \n",
      "\n"
     ]
    }
   ],
   "source": [
    "for i in range(1,6): #for rows\n",
    "    for j in range(1,i+1): #for columns\n",
    "        print(\"*\",end=\" \")\n",
    "    print()\n",
    "for i in range(5,0,-1):\n",
    "    for k in range(0,i-1):\n",
    "        print(\"*\",end=\" \")\n",
    "    print()\n"
   ]
  },
  {
   "cell_type": "code",
   "execution_count": 5,
   "metadata": {},
   "outputs": [
    {
     "name": "stdout",
     "output_type": "stream",
     "text": [
      "1 \n",
      "2 4 \n",
      "3 6 9 \n",
      "4 8 12 16 \n",
      "5 10 15 20 25 \n",
      "6 12 18 24 30 36 \n",
      "7 14 21 28 35 42 49 \n",
      "8 16 24 32 40 48 56 64 \n",
      "9 18 27 36 45 54 63 72 81 \n",
      "10 20 30 40 50 60 70 80 90 100 \n"
     ]
    }
   ],
   "source": [
    "for i in range(1,11):\n",
    "    for j in range(1,i+1):\n",
    "        print(i*j,end = \" \")\n",
    "    print()"
   ]
  },
  {
   "cell_type": "code",
   "execution_count": 6,
   "metadata": {},
   "outputs": [
    {
     "name": "stdout",
     "output_type": "stream",
     "text": [
      "Harry Potter and the Goblet of Fire\n"
     ]
    }
   ],
   "source": [
    "a = \"Harry Potter and the Goblet of Fire\"\n",
    "print(a)"
   ]
  },
  {
   "cell_type": "code",
   "execution_count": 8,
   "metadata": {},
   "outputs": [
    {
     "name": "stdout",
     "output_type": "stream",
     "text": [
      "35\n"
     ]
    }
   ],
   "source": [
    "a = \"Harry Potter and the Goblet of Fire\"\n",
    "print(len(a))"
   ]
  },
  {
   "cell_type": "code",
   "execution_count": 10,
   "metadata": {},
   "outputs": [
    {
     "name": "stdout",
     "output_type": "stream",
     "text": [
      "3\n"
     ]
    }
   ],
   "source": [
    "a = \"Harry Potter and the Goblet of Fire\"\n",
    "print(a.count(\"o\"))"
   ]
  },
  {
   "cell_type": "code",
   "execution_count": 11,
   "metadata": {},
   "outputs": [
    {
     "name": "stdout",
     "output_type": "stream",
     "text": [
      "harry potter and the goblet of fire\n"
     ]
    }
   ],
   "source": [
    "a = \"Harry Potter and the Goblet of Fire\"\n",
    "print(a.lower())"
   ]
  },
  {
   "cell_type": "code",
   "execution_count": 12,
   "metadata": {},
   "outputs": [
    {
     "name": "stdout",
     "output_type": "stream",
     "text": [
      "HARRY POTTER AND THE GOBLET OF FIRE\n"
     ]
    }
   ],
   "source": [
    "a = \"Harry Potter and the Goblet of Fire\"\n",
    "print(a.upper())"
   ]
  },
  {
   "cell_type": "code",
   "execution_count": 13,
   "metadata": {},
   "outputs": [
    {
     "name": "stdout",
     "output_type": "stream",
     "text": [
      "Harry potter and the goblet of fire\n"
     ]
    }
   ],
   "source": [
    "a = \"harry Potter and the Goblet of Fire\"\n",
    "print(a.capitalize())"
   ]
  },
  {
   "cell_type": "code",
   "execution_count": 14,
   "metadata": {},
   "outputs": [
    {
     "name": "stdout",
     "output_type": "stream",
     "text": [
      "17\n"
     ]
    }
   ],
   "source": [
    "a = \"Harry Potter and the Goblet of Fire\"\n",
    "print(a.index(\"the\"))"
   ]
  },
  {
   "cell_type": "code",
   "execution_count": 15,
   "metadata": {},
   "outputs": [
    {
     "name": "stdout",
     "output_type": "stream",
     "text": [
      "harry potter and the goblet of fire\n"
     ]
    }
   ],
   "source": [
    "a = \"Harry Potter And The Goblet of Fire\"\n",
    "print(a.casefold())"
   ]
  },
  {
   "cell_type": "code",
   "execution_count": 17,
   "metadata": {},
   "outputs": [
    {
     "name": "stdout",
     "output_type": "stream",
     "text": [
      "-1\n"
     ]
    }
   ],
   "source": [
    "a = \"Harry Potter and the Goblet of Fire\"\n",
    "print(a.find(\"o\",15,16))"
   ]
  },
  {
   "cell_type": "code",
   "execution_count": 18,
   "metadata": {},
   "outputs": [
    {
     "name": "stdout",
     "output_type": "stream",
     "text": [
      "My name is krishna\n"
     ]
    }
   ],
   "source": [
    "name = \"krishna\"\n",
    "b = \"My name is {}\"\n",
    "print(b.format(name))\n"
   ]
  },
  {
   "cell_type": "code",
   "execution_count": 20,
   "metadata": {},
   "outputs": [
    {
     "name": "stdout",
     "output_type": "stream",
     "text": [
      "******krishna*******\n"
     ]
    }
   ],
   "source": [
    "name = \"krishna\"\n",
    "print(name.center(20,\"*\"))"
   ]
  },
  {
   "cell_type": "code",
   "execution_count": null,
   "metadata": {},
   "outputs": [],
   "source": []
  }
 ],
 "metadata": {
  "kernelspec": {
   "display_name": "Python 3",
   "language": "python",
   "name": "python3"
  },
  "language_info": {
   "codemirror_mode": {
    "name": "ipython",
    "version": 3
   },
   "file_extension": ".py",
   "mimetype": "text/x-python",
   "name": "python",
   "nbconvert_exporter": "python",
   "pygments_lexer": "ipython3",
   "version": "3.13.2"
  }
 },
 "nbformat": 4,
 "nbformat_minor": 2
}
